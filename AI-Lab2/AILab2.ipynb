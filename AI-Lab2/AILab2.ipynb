{
 "cells": [
  {
   "cell_type": "markdown",
   "metadata": {
    "id": "r3EEqKe4D5tm"
   },
   "source": [
    "**Tεχνητή Νοημοσύνη-Ροή Λ-7ο εξάμηνο 2020-2021**\n",
    "**Ημ/νία: 27.12.2020**"
   ]
  },
  {
   "cell_type": "markdown",
   "metadata": {
    "id": "YNwhI6744rUa"
   },
   "source": [
    "# Τεχνητή Νοημοσύνη: Εργαστηριακή Άσκηση 2\n",
    "---\n",
    "\n",
    "Ο στόχος της εργασίας είναι η κατασκευή ενός συστήματος προτάσεων (Recommendation System) για ταινίες. Οι προτάσεις αυτές θα πηγάζουν τόσο από τα χαρακτηριστικά της ταινίας όσο και από ορισμένες αξιολογήσεις του κάθε χρήστη.\n",
    "\n",
    "Στα δεδομένα της άσκησης περιλαμβάνονται ένα αρχείο με το όνομα movies_metadata.csv το όποιο περιέχει τα χαρακτηριστικά κάθε ταινίας όπως θέμα, σκηνοθέτης ηθοποιοί, λέξεις κλειδιά κ.α. από το imdb καθώς και τα αρχεία ratings.csv τα όποια περιέχουν πραγματικές αξιολογήσεις χρηστών, χωρισμένες σε train και σε test.\n"
   ]
  },
  {
   "cell_type": "markdown",
   "metadata": {
    "id": "021xhsuy4rUa"
   },
   "source": [
    "# Εκφώνηση\n",
    "Στην παρούσα εργασία σας ζητείται να μελετήσετε και να υλοποιήσετε τα παρακάτω:<br>\n",
    "\n",
    "### Μέρος 1\n",
    "Στο μέρος 1 και 2 θα ασχοληθείτε και θα εργαστείτε μόνο με το αρχείο movies_metadata.csv.\n",
    "#### Ερώτημα 1α\n",
    "\n",
    "Αρχικά θα πρέπει, αφού μελετήσετε τη δομή και τα χαρακτηριστικά του αρχείου αυτού, να κατασκευάσετε μια βάση γνώσης για την Prolog η όποια ουσιαστικά θα αποτελεί τον κόσμο με τον όποιο θα εργαστείτε στην συνέχεια. Τα κατηγορήματα που θα δημιουργηθούν θα σας βοηθήσουν και στην κατασκευή του recommender και θα είναι της μορφής:\n",
    "\n",
    "```\n",
    "director(Movie, Director).\n",
    "genre(Movie, Genre).\n",
    "```\n",
    "#### Ερώτημα 1β\n",
    "\n",
    "Αφού δημιουργήσετε τον κόσμο του προβλήματος, στη συνέχεια καλείστε να δημιουργήσετε, σε Prolog, απλούς κανόνες οι οποίοι θα βρίσκουν όλες τις ταινίες με:\n",
    "1.\tΚοινό θέμα (κάποιες λέξεις σχετικά με το genre κοινές)\n",
    "2.\tΑρκετά κοινό θέμα (κάποιες λιγότερες λέξεις σχετικά με το genre κοινές π.χ. 3)\n",
    "3.\tΣχετικά κοινό θέμα (λίγες λέξεις σχετικές με το genre κοινές π.χ. 1)\n",
    "4.\tΚοινός σκηνοθέτης\n",
    "5.\tΑκριβώς ίδια πλοκή (κάποιες λέξεις κλειδιά της πλοκής κοινές)\n",
    "6.\tΣχετικά ίδια πλοκή (κάποιες λιγότερες λέξεις κλειδιά κοινές)\n",
    "7.\tΊδιους τους βασικούς ηθοποιούς (και τους 3)\n",
    "8.\tΑρκετά ίδιους βασικούς ηθοποιούς (ορισμένους βασικούς ηθοποιούς κοινούς π.χ. 2)\n",
    "9.\tΣχετικά ίδιους ηθοποιούς (π.χ. 1 από τους 3)\n",
    "10.\tΊδια γλώσσα\n",
    "11.\tΕίναι έγχρωμες ή ασπρόμαυρες\n",
    "\n",
    "Αξίζει να σημειωθεί ότι στα παραπάνω μπορείτε να προσθέσετε περισσότερα ερωτήματα ή να αλλάξετε την κλιμακωσιμότητα των queries (πέρα από το ίδιο, αρκετά ίδιο, σχετικά ίδιο) που θα κατασκευάσετε(π.χ. μια κλίμακα από 1 στα 5 όπου αυτό είναι δυνατόν), μιας και αυτά στην συνέχεια θα χρησιμοποιηθούν για την λειτουργία του recommender. Έτσι μπορείτε να προσθέσετε queries με τα όποια μπορεί να παράγονται καλύτερες συστάσεις  (το αρχείο movie_metadata.csv περιέχει πολλές πληροφορίες ακόμα για κάθε ταινία όπως έτος κυκλοφορίας, βαθμολογία στο imdb, facebοok_likes κ.α.).\n",
    "\n",
    "Περισσότερες πληροφορίες για το dataset μπορείτε να διαβάσετε σε αυτό το [Link](https://www.kaggle.com/georgefila/movies-metadata):\n",
    "### Μέρος 2: Recommendation System\n",
    "Στο σημείο αυτό καλείστε με βάση αυτά που κάνατε στο μέρος 1 να κατασκευάσετε queries τα όποια θα σας επιστρέφουν παρόμοιες (σε χαρακτηριστικά) ταινίες. Τα ερωτήματα αυτά θα είναι κλιμακούμενα, δηλαδή θα υπάρχουν ερωτήματα που επιστρέφουν αρκετά κοινές ταινίες αλλά και που επιστρέφουν λιγότερο και λιγότερο κοινές (σε μια κλίμακα π.χ. από 1 σε 5). Για παράδειγμα:\n",
    "\n",
    "```\n",
    "find_simmilar_movies_5(\"Pirates Of The Caribbean\", M).\n",
    "M = \"Pirates Of The Caribbean: On Stranger Tides\"\n",
    "M = \"The Chronicles Of Narnia\"\n",
    "M = \"Prince Of Persia: The Sands Of Time\"\n",
    "...\n",
    "```\n",
    "Για παράδειγμα, το παραπάνω ερώτημα θα επιστρέφει αρκετά κοινές σε περιεχόμενο ταινίες με την ταινια \"Pirates Of The Caribbean\". Θα υπάρχουν και αντίστοιχα ερωτήματα που θα βρίσκουν λιγότερο όμοιες ταινίες. Ο δείκτης ομοιότητας των ταινιών είναι αυθαίρετος και μπορείτε να τον ορίσετε εσείς όπως θέλετε, αρκεί να υπάρχει κάποια λογική σύνδεση με τα δεδομένα που περιέχονται στο αρχείο movies_metadata.csv. \n",
    "\n",
    "Συνεπώς η συνάρτηση που θα κάνει τις προτάσεις (recommendation) με είσοδο μια ταινία πρέπει να επιστρέφει-εκτυπώνει μια λίστα με τις προτεινόμενες ταινίες κατά φθίνουσα σειρά ομοιότητας. \n",
    "\n",
    "\n",
    "###3ο Μέρος: Recommendation System Με βάση τις προτιμήσεις - Αξιολογήσεις του χρήστη\n",
    "\n",
    "\n",
    "Σε αυτό το σημείο θα εργαστείτε με τα αρχεία ratings τα όποια περιέχουν αξιολογήσεις (από 1 μέχρι 5) για τις παραπάνω ταινίες. Το προηγούμενο σύστημα συστάσεων προτείνει στον χρήστη ταινίες αποκλειστικά με βάση την ομοιότητά τους. Σε αυτό το σημείο θα γίνει μια αναβάθμιση του συστήματος έτσι ώστε να παράγονται καλύτερες  συστάσεις οι όποιες θα λαμβάνουν υπόψιν και τις προτιμήσεις του χρήστη, οι όποιες θα εξάγονται από τις αξιολογήσεις που έχει κάνει μέχρι στιγμής. \n",
    "\n",
    "Η εκπαίδευση του recommender θα γίνεται ως εξής:\n",
    "\n",
    "Για κάθε ταινία θα υπάρχει ένα score το όποιο αρχικά θε είναι ίσο με 0 και θα διαμορφώνεται από τις αξιολογήσεις κάθε user. Έτσι για έναν χρήστη με βάση τις αξιολογήσεις που υπάρχουν στο αρχείο train_ratings θα πρέπει:\n",
    "\n",
    "1.\tΓια κάθε ταινία που έχει βαθμολογήσει να βρίσκονται οι κοινές ταινίες ανά κλίμακα και στο μέχρι τώρα σκορ κάθε παρόμοιας ταινίας θα προστίθεται ένα βάρος το όποιο θα μπορούσε να είναι το ποσοστό ομοιότητας της ταινίας (δηλαδή ένα βάρος για κάθε κλίμακα) επί τον βαθμό που έχει βάλει ο χρήστης για την αρχική ταινία. Στη συνέχεια, ανάλογα με το σκορ που έχει σχηματιστεί για κάθε ταινία, θα επιλέγεται αν αυτή θα μπορούσε να είναι προτεινόμενη για τον χρήστη.\n",
    "\n",
    "Η λογική πίσω από την παραπάνω διαδικασία είναι ότι παρόμοιες ταινίες θα έχουν ανάλογο βαθμό. Για παράδειγμα αν ένας χρήστης έχει αξιολογήσει αρκετές  ταινίες οι όποιες είναι sci-fiction με 5/5 τότε μια ταίνια sci-fiction την όποια δεν έχει δεί λογικά θα του αρέσει και θα έπρεπε να την προτείνουμε.\n",
    "\n",
    "Μετά την εκπαίδευση του συστήματος σας καλείστε να δοκιμάσετε τον recommender που κατασκευάσατε στην πράξη. Για τον σκοπό αυτό θα φορτώσετε το αρχείο train_ratings.csv όπου περιέχονται οι αξιολογήσεις του ίδιου χρήστη για άλλες ταινίες. Το σύστημά σας πρέπει να προβλέπει αν μια ταινία θα πρέπει να προταθεί στον χρήστη. Μια ταίνια θα έπρεπε να έχει προταθεί στον  χρήστη, αν έχει βαθμό μεγαλύτερο του 3. Συνεπώς για την επίβλεψη του συστήματός σας θα πρέπει για κάθε μια από τις ταινίες του αρχείου test_ratings.csv να επιστρέφεται 1 ή 0 αν η ταινία θα έπαιρνε βαθμό μεγαλύτερο του 3 ή όχι, δηλαδή αν θα έπρεπε να την είχαμε προτείνει ή όχι.\n",
    "\n",
    "Στην συνέχεια, σε συνδιασμό με τις πραγματικές απαντήσεις του χρήστη θα αξιολογήσετε το σύστημά σας χρησιμοποιόντας τις μετρικές: precision, recall, f1 οι οποίες είναι οι πλέον γνωστές μετρικές και ευρέως χρησιμοποιούμενες τεχνικές για την επίβλεψη-μέτρηση απόδοσης ανάλογων συστημάτων.\n",
    "\n",
    "1. Precision: Δείχνει πόσο ακριβές είναι το σύστημα. Υπολογίζει πόσα από τα στιγμιότυπα τα όποια προβλέψαμε ότι ανήκουν σε μια κλάση όντως ανήκουν σε αυτή. Η μετρική αυτή μας δίνει μια εικόνα σχετικά με τον αριθμό των ταινίων που προβλέψαμε ως προτεινόμενες ενώ δεν θα έπρεπε.\n",
    "\n",
    "2. Recall: Υπολογίζει πόσα από τα στιγμιότυπα που ανήκουν σε μια κλάση (π.χ. προτεινόμενες ταινίες) προβλέφθηκαν σωστά.\n",
    "\n",
    "3. F1: Είναι ένας μέσος μεταξύ των παραπάνω δυο μετρικών, έτσι ώστε να διατηρείται μια ισορροπία μεταξύ τους. Υπολογίζεται από την παρακάτω σχέση:\n",
    "\n",
    "$$F_1=2\\frac{Precision\\times{Recall}}{Precision+Recall}$$\n",
    "\n",
    "Οι παραπάνω συναρτήσεις παρέχονται από την βιβλιοθήκη scikit-learn.\n",
    "\n",
    "Τέλος για την καλύτερη επίβλεψη του συστήματος σας μπορείτε να εκπαιδεύσετε  τον recommender σας με ένα υποσύνολο ταινίων (π.χ. 10, 20, 50, ...) για να μελετήσετε κατά πόσο σας βοηθούν οι επιπλέον αξιολογήσεις κάθε φορά (δηλαδή κατά πόσο βελτιώνονται οι παραπάνω μετρικές στο test set). Έτσι π.χ. μπορείτε να εντοπίσετε περιπτώσεις όπως για παράδειγμα ότι με έναν recommender μπορεί να μην επιτυγχάνετε πολύ υψηλό σκορ όσο με άλλους, αλλά το βέλτιστο σκόρ σας επιτυγχάνεται πολύ γρηγόρα π.χ. με μόνο 10 ταινίες αντί 100.\n",
    "\n"
   ]
  },
  {
   "cell_type": "markdown",
   "metadata": {
    "id": "9HWH0oMY4rUb"
   },
   "source": [
    "---\n",
    "## Κατασκευή Περιβάλλοντος Εργασίας\n",
    "---\n",
    "### Διάβασμα Αρχείων στο Colab (Μόνο για το Colab)\n",
    "Αν η υλοποίηση γίνει στο google colab τότε μπορεί να χρησιμοποιηθεί το google drive ως file system. Για να γίνει Mount το google drive τρέχουμε τον παρακάτω κώδικα και κλικάρουμε στο link που θα μας εμφανιστεί. \n",
    "\n",
    "```\n",
    "from google.colab import drive\n",
    "drive.mount('/gdrive')\n",
    "import os\n",
    "os.listdir('/gdrive/My Drive')\n",
    "```\n",
    "Έπειτα στην σελίδα που άνοιξε επιλέγουμε το mail μας και στο επόμενο παράθυρο που θα μας ανοίξει πατάμε Να επιτρέπεται. Στην συνέχεια αντιγράφουμε τον κωδικό που θα μας βγάλει και τον κάνουμε paste στο Input που έχει ανοίξει στο colab. Έτσι πλέον αν έχουμε ανεβάσει ένα αρχείο στο google drive μπορούμε να το βρούμε στην θέση:\n",
    "\n",
    "```\n",
    "movies_filename = '/gdrive/My Drive/' + movies_metadata.csv\n",
    "```\n",
    "Μπορούμε πλέον κανονικά να δουλέψουμε φτιάχνοντας φακέλους ή αρχεία και γενικότερα κάνοντας οτιδήποτε θα κάναμε αν ήμασταν τοπικά. \n",
    "\n",
    "### Prolog μέσω Python\n",
    "\n",
    "Το πακέτο που θα χρησιμοποιηθεί για την επικοινωνία Python και Prolog είναι το pyswip (https://pypi.org/project/pyswip/). Για να δουλέψει το Pyswip  χρειάζεται να υπάρχει το Swi-Prolog το όποιο αν δουλεύουμε τοπικά πρέπει να το εγκαταστήσουμε, ακολουθώντας αντίστοιχες οδηγίες στην σελίδα του εργαλείου. Για να γίνει του Swi-Prolog η εγκατάσταση στο Google Colab πρέπει να τρέξουμε τον παρακάτω κώδικα:\n",
    "\n",
    "```\n",
    "!sudo apt-get install software-properties-common\n",
    "!sudo apt-add-repository ppa:swi-prolog/stable\n",
    "!sudo apt-get update\n",
    "!sudo apt-get install swi-prolog\n",
    "```\n",
    "Σε κάποιο σημείο της εκτέλεσης εμφανίζεται ένα μήνυμα ότι πρέπει να πατήσουμε enter σε ένα input για να συνεχίσει η διαδικασία. Έπειτα από αυτό η εκτέλεση θα συνεχίσει χωρίς κάποιο πρόβλημα.\n",
    "\n",
    "Τέλος πρέπει να εγκαταστήσουμε το pyswip (**όπου και να δουλεύουμε**) όπως παρακάτω:\n",
    "\n",
    "```\n",
    "!pip isntall pyswip\n",
    "```\n"
   ]
  },
  {
   "cell_type": "markdown",
   "metadata": {
    "id": "doHQmp994rUb"
   },
   "source": [
    "---\n",
    "#Κώδικας για κατασκευή περιβάλλοντος εργασίας\n",
    "\n",
    "##Μόνο για Google Colab\n",
    "\n",
    "Κώδικας για να γίνει Mount to Google Drive"
   ]
  },
  {
   "cell_type": "code",
   "execution_count": 1,
   "metadata": {
    "colab": {
     "base_uri": "https://localhost:8080/"
    },
    "id": "4QOs_gnx4rUb",
    "outputId": "33b58f64-6e76-47fa-8d65-db97b3b20e23"
   },
   "outputs": [
    {
     "name": "stdout",
     "output_type": "stream",
     "text": [
      "Drive already mounted at /gdrive; to attempt to forcibly remount, call drive.mount(\"/gdrive\", force_remount=True).\n"
     ]
    }
   ],
   "source": [
    "from google.colab import drive\n",
    "drive.mount('/gdrive')\n",
    "import os\n",
    "os.listdir('/gdrive/My Drive')\n",
    "path='/gdrive/My Drive/'"
   ]
  },
  {
   "cell_type": "code",
   "execution_count": 2,
   "metadata": {
    "colab": {
     "base_uri": "https://localhost:8080/"
    },
    "id": "xZdXjQr64rUc",
    "outputId": "b31cdf53-1109-45b0-f835-874a5d859d09"
   },
   "outputs": [
    {
     "name": "stdout",
     "output_type": "stream",
     "text": [
      "Reading package lists... Done\n",
      "Building dependency tree       \n",
      "Reading state information... Done\n",
      "software-properties-common is already the newest version (0.96.24.32.14).\n",
      "0 upgraded, 0 newly installed, 0 to remove and 17 not upgraded.\n",
      " Comprehensive Prolog implementation with extensive libraries and development tools.   Primarily targetted at teaching, RDF processing and web-related tasks, such as creating web services or analysing web content.\n",
      " More info: https://launchpad.net/~swi-prolog/+archive/ubuntu/stable\n",
      "Press [ENTER] to continue or Ctrl-c to cancel adding it.\n",
      "\n",
      "Hit:1 http://ppa.launchpad.net/c2d4u.team/c2d4u4.0+/ubuntu bionic InRelease\n",
      "Get:2 http://security.ubuntu.com/ubuntu bionic-security InRelease [88.7 kB]\n",
      "Hit:3 http://archive.ubuntu.com/ubuntu bionic InRelease\n",
      "Hit:4 http://ppa.launchpad.net/cran/libgit2/ubuntu bionic InRelease\n",
      "Hit:5 http://archive.ubuntu.com/ubuntu bionic-updates InRelease\n",
      "Hit:6 https://cloud.r-project.org/bin/linux/ubuntu bionic-cran40/ InRelease\n",
      "Hit:7 http://archive.ubuntu.com/ubuntu bionic-backports InRelease\n",
      "Hit:8 http://ppa.launchpad.net/graphics-drivers/ppa/ubuntu bionic InRelease\n",
      "Hit:9 http://ppa.launchpad.net/swi-prolog/stable/ubuntu bionic InRelease\n",
      "Ign:10 https://developer.download.nvidia.com/compute/cuda/repos/ubuntu1804/x86_64  InRelease\n",
      "Ign:11 https://developer.download.nvidia.com/compute/machine-learning/repos/ubuntu1804/x86_64  InRelease\n",
      "Hit:12 https://developer.download.nvidia.com/compute/cuda/repos/ubuntu1804/x86_64  Release\n",
      "Hit:13 https://developer.download.nvidia.com/compute/machine-learning/repos/ubuntu1804/x86_64  Release\n",
      "Fetched 88.7 kB in 1s (73.1 kB/s)\n",
      "Reading package lists... Done\n",
      "Hit:1 http://ppa.launchpad.net/c2d4u.team/c2d4u4.0+/ubuntu bionic InRelease\n",
      "Hit:2 http://archive.ubuntu.com/ubuntu bionic InRelease\n",
      "Hit:3 http://security.ubuntu.com/ubuntu bionic-security InRelease\n",
      "Hit:4 http://archive.ubuntu.com/ubuntu bionic-updates InRelease\n",
      "Hit:5 https://cloud.r-project.org/bin/linux/ubuntu bionic-cran40/ InRelease\n",
      "Hit:6 http://ppa.launchpad.net/cran/libgit2/ubuntu bionic InRelease\n",
      "Hit:7 http://archive.ubuntu.com/ubuntu bionic-backports InRelease\n",
      "Hit:8 http://ppa.launchpad.net/graphics-drivers/ppa/ubuntu bionic InRelease\n",
      "Hit:9 http://ppa.launchpad.net/swi-prolog/stable/ubuntu bionic InRelease\n",
      "Ign:10 https://developer.download.nvidia.com/compute/cuda/repos/ubuntu1804/x86_64  InRelease\n",
      "Ign:11 https://developer.download.nvidia.com/compute/machine-learning/repos/ubuntu1804/x86_64  InRelease\n",
      "Hit:12 https://developer.download.nvidia.com/compute/cuda/repos/ubuntu1804/x86_64  Release\n",
      "Hit:13 https://developer.download.nvidia.com/compute/machine-learning/repos/ubuntu1804/x86_64  Release\n",
      "Reading package lists... Done\n",
      "Reading package lists... Done\n",
      "Building dependency tree       \n",
      "Reading state information... Done\n",
      "swi-prolog is already the newest version (8.2.3-1-ge5584f06e-bionicppa2).\n",
      "0 upgraded, 0 newly installed, 0 to remove and 17 not upgraded.\n",
      "Requirement already satisfied: pyswip in /usr/local/lib/python3.6/dist-packages (0.2.10)\n"
     ]
    }
   ],
   "source": [
    "#install swi-prolog\n",
    "!sudo apt-get install software-properties-common\n",
    "!sudo apt-add-repository ppa:swi-prolog/stable\n",
    "!sudo apt-get update\n",
    "!sudo apt-get install swi-prolog\n",
    "#install pyswip\n",
    "!pip install pyswip"
   ]
  },
  {
   "cell_type": "markdown",
   "metadata": {
    "id": "GxLahZ-i4rUc"
   },
   "source": [
    "# **Μέρος 1: Μελέτη των Metadata, Δημιουργία κόσμου και των βασικών queries.**\n"
   ]
  },
  {
   "cell_type": "markdown",
   "metadata": {
    "id": "8ytKXPspObTs"
   },
   "source": [
    "**Ερώτημα 1α:** Κατασκευή του κόσμου, κώδικας 1ου Μέρους<br>\n",
    "**Ερώτημα 1β:** Τα κατηγορήματα prolog που υλοποιήθηκαν περιλαμβάνονται στο αρχείο db.pl που επισυνάπτεται.<br>\n",
    "Για του δείκτες και την  κλίμακα ομοιότητας αποφασίσαμε τα εξής:\n",
    "\n",
    "\n",
    "*   Το κατηγόρημα very_common επιτυγχάνει όταν 2 ταινίες έχουν πολύ κοινό θέμα, δηλαδή όταν έχουν κοινά τουλάχιστον 3 genres-keywords.\n",
    "*   Το κατηγόρημα common επιτυγχάνει όταν 2 ταινίες έχουν σχετικά κοινό θέμα, δηλαδή όταν έχουν κοινά τουλάχιστον 2 genres-keywords.\n",
    "*   Σε κάθε άλλη περίπτωση (λιγότερα από 2 κοινά genres-keywords) οι δύο ταινίες δεν θεωρείται ότι έχουν κοινό θέμα και δεν προτείνονται από το σύστημα όταν η αναζήτηση αφορά ταινίες με κοινό θέμα.\n",
    "*   Το κατηγόρημα same_plot επιτυγχάνει όταν 2 ταινίες έχουν ίδια πλοκή, δηλαδή όταν έχουν κοινά τουλάχιστον 3 plot-keywords.\n",
    "*   Το κατηγόρημα common_plot επιτυγχάνει όταν 2 ταινίες έχουν σχετικά όμοια πλοκή, δηλαδή όταν έχουν κοινά τουλάχιστον 2 plot-keywords.\n",
    "*   Σε κάθε άλλη περίπτωση (λιγότερα από 2 κοινά plot-keywords) οι δύο ταινίες δεν θεωρείται ότι έχουν παρόμοια πλοκή και δεν προτείνονται από το σύστημα όταν η αναζήτηση αφορά ταινίες με κοινή πλοκή.\n",
    "*   Το κατηγόρημα all_actors επιτυγχάνει όταν 2 ταινίες έχουν κοινούς και τους 3 βασικούς ηθοποιούς.\n",
    "*   Το κατηγόρημα many_actors επιτυγχάνει όταν 2 ταινίες έχουν κοινούς τουλάχιστον 2 από τους βασικούς ηθοποιούς.\n",
    "*   Το κατηγόρημα some_actors επιτυγχάνει όταν 2 ταινίες έχουν κοινό τουλάχιστον έναν από τους βασικούς ηθοποιούς.\n",
    "*   Το κατηγόρημα common_color επιτυγχάνει είτε όταν 2 ταινίες είναι και ι δύο ασπρόμαυρες είτε όταν είναι και οι δύο έγχρωμες.\n",
    "*   Το κατηγόρημα same_language επιτυγχάνει όταν 2 ταινίες έχουν κοινή γλώσσα.\n",
    "*   Υπάρχουν κι άλλα κατηγορήματα (popular, good_movie, great_movie) τα οποία επιτυγχάνουν όταν μία ταινία είναι δημοφιλής με βάση πχ τα likes στο facebook ή τη βαθμολογία της στο IMDB.\n",
    "\n",
    "\n",
    "\n",
    "\n",
    "\n",
    "\n",
    "\n",
    "\n",
    "\n",
    "\n",
    "\n",
    "\n",
    "\n",
    "\n",
    "\n"
   ]
  },
  {
   "cell_type": "code",
   "execution_count": 3,
   "metadata": {
    "id": "gA3CRz5c4rUc"
   },
   "outputs": [],
   "source": [
    "import pandas as pd\n",
    "from pyswip import Prolog"
   ]
  },
  {
   "cell_type": "code",
   "execution_count": 4,
   "metadata": {
    "colab": {
     "base_uri": "https://localhost:8080/",
     "height": 686
    },
    "id": "jnVDBIDw4rUd",
    "outputId": "2dbad312-2a44-4f03-de25-1070640849e3"
   },
   "outputs": [
    {
     "data": {
      "text/html": [
       "<div>\n",
       "<style scoped>\n",
       "    .dataframe tbody tr th:only-of-type {\n",
       "        vertical-align: middle;\n",
       "    }\n",
       "\n",
       "    .dataframe tbody tr th {\n",
       "        vertical-align: top;\n",
       "    }\n",
       "\n",
       "    .dataframe thead th {\n",
       "        text-align: right;\n",
       "    }\n",
       "</style>\n",
       "<table border=\"1\" class=\"dataframe\">\n",
       "  <thead>\n",
       "    <tr style=\"text-align: right;\">\n",
       "      <th></th>\n",
       "      <th>Unnamed: 0</th>\n",
       "      <th>budget</th>\n",
       "      <th>genres</th>\n",
       "      <th>homepage</th>\n",
       "      <th>id</th>\n",
       "      <th>plot_keywords</th>\n",
       "      <th>language</th>\n",
       "      <th>original_title</th>\n",
       "      <th>overview</th>\n",
       "      <th>popularity</th>\n",
       "      <th>production_companies</th>\n",
       "      <th>production_countries</th>\n",
       "      <th>release_date</th>\n",
       "      <th>gross</th>\n",
       "      <th>duration</th>\n",
       "      <th>spoken_languages</th>\n",
       "      <th>status</th>\n",
       "      <th>tagline</th>\n",
       "      <th>movie_title</th>\n",
       "      <th>vote_average</th>\n",
       "      <th>num_voted_users</th>\n",
       "      <th>title_year</th>\n",
       "      <th>country</th>\n",
       "      <th>director_name</th>\n",
       "      <th>actor_1_name</th>\n",
       "      <th>actor_2_name</th>\n",
       "      <th>actor_3_name</th>\n",
       "    </tr>\n",
       "  </thead>\n",
       "  <tbody>\n",
       "    <tr>\n",
       "      <th>0</th>\n",
       "      <td>0</td>\n",
       "      <td>237000000</td>\n",
       "      <td>Action|Adventure|Fantasy|Science Fiction</td>\n",
       "      <td>http://www.avatarmovie.com/</td>\n",
       "      <td>19995</td>\n",
       "      <td>culture clash|future|space war|space colony|so...</td>\n",
       "      <td>English</td>\n",
       "      <td>Avatar</td>\n",
       "      <td>In the 22nd century, a paraplegic Marine is di...</td>\n",
       "      <td>150.437577</td>\n",
       "      <td>[{'name': 'Ingenious Film Partners', 'id': 289...</td>\n",
       "      <td>[{'iso_3166_1': 'US', 'name': 'United States o...</td>\n",
       "      <td>2009-12-10</td>\n",
       "      <td>2787965087</td>\n",
       "      <td>162</td>\n",
       "      <td>[{'iso_639_1': 'en', 'name': 'English'}, {'iso...</td>\n",
       "      <td>Released</td>\n",
       "      <td>Enter the World of Pandora.</td>\n",
       "      <td>Avatar</td>\n",
       "      <td>7.2</td>\n",
       "      <td>11800</td>\n",
       "      <td>2009</td>\n",
       "      <td>United States of America</td>\n",
       "      <td>James Cameron</td>\n",
       "      <td>Zoe Saldana</td>\n",
       "      <td>Sigourney Weaver</td>\n",
       "      <td>Stephen Lang</td>\n",
       "    </tr>\n",
       "    <tr>\n",
       "      <th>1</th>\n",
       "      <td>1</td>\n",
       "      <td>300000000</td>\n",
       "      <td>Adventure|Fantasy|Action</td>\n",
       "      <td>http://disney.go.com/disneypictures/pirates/</td>\n",
       "      <td>285</td>\n",
       "      <td>ocean|drug abuse|exotic island|east india trad...</td>\n",
       "      <td>English</td>\n",
       "      <td>Pirates of the Caribbean: At World's End</td>\n",
       "      <td>Captain Barbossa, long believed to be dead, ha...</td>\n",
       "      <td>139.082615</td>\n",
       "      <td>[{'name': 'Walt Disney Pictures', 'id': 2}, {'...</td>\n",
       "      <td>[{'iso_3166_1': 'US', 'name': 'United States o...</td>\n",
       "      <td>2007-05-19</td>\n",
       "      <td>961000000</td>\n",
       "      <td>169</td>\n",
       "      <td>[{'iso_639_1': 'en', 'name': 'English'}]</td>\n",
       "      <td>Released</td>\n",
       "      <td>At the end of the world, the adventure begins.</td>\n",
       "      <td>Pirates of the Caribbean: At World's End</td>\n",
       "      <td>6.9</td>\n",
       "      <td>4500</td>\n",
       "      <td>2007</td>\n",
       "      <td>United States of America</td>\n",
       "      <td>Gore Verbinski</td>\n",
       "      <td>Orlando Bloom</td>\n",
       "      <td>Keira Knightley</td>\n",
       "      <td>Stellan Skarsgård</td>\n",
       "    </tr>\n",
       "    <tr>\n",
       "      <th>2</th>\n",
       "      <td>2</td>\n",
       "      <td>245000000</td>\n",
       "      <td>Action|Adventure|Crime</td>\n",
       "      <td>http://www.sonypictures.com/movies/spectre/</td>\n",
       "      <td>206647</td>\n",
       "      <td>spy|based on novel|secret agent|sequel|mi6|bri...</td>\n",
       "      <td>Français</td>\n",
       "      <td>Spectre</td>\n",
       "      <td>A cryptic message from Bond’s past sends him o...</td>\n",
       "      <td>107.376788</td>\n",
       "      <td>[{'name': 'Columbia Pictures', 'id': 5}, {'nam...</td>\n",
       "      <td>[{'iso_3166_1': 'GB', 'name': 'United Kingdom'...</td>\n",
       "      <td>2015-10-26</td>\n",
       "      <td>880674609</td>\n",
       "      <td>148</td>\n",
       "      <td>[{'iso_639_1': 'fr', 'name': 'Français'}, {'is...</td>\n",
       "      <td>Released</td>\n",
       "      <td>A Plan No One Escapes</td>\n",
       "      <td>Spectre</td>\n",
       "      <td>6.3</td>\n",
       "      <td>4466</td>\n",
       "      <td>2015</td>\n",
       "      <td>United Kingdom</td>\n",
       "      <td>Sam Mendes</td>\n",
       "      <td>Christoph Waltz</td>\n",
       "      <td>Léa Seydoux</td>\n",
       "      <td>Ralph Fiennes</td>\n",
       "    </tr>\n",
       "    <tr>\n",
       "      <th>3</th>\n",
       "      <td>3</td>\n",
       "      <td>250000000</td>\n",
       "      <td>Action|Crime|Drama|Thriller</td>\n",
       "      <td>http://www.thedarkknightrises.com/</td>\n",
       "      <td>49026</td>\n",
       "      <td>dc comics|crime fighter|terrorist|secret ident...</td>\n",
       "      <td>English</td>\n",
       "      <td>The Dark Knight Rises</td>\n",
       "      <td>Following the death of District Attorney Harve...</td>\n",
       "      <td>112.312950</td>\n",
       "      <td>[{'name': 'Legendary Pictures', 'id': 923}, {'...</td>\n",
       "      <td>[{'iso_3166_1': 'US', 'name': 'United States o...</td>\n",
       "      <td>2012-07-16</td>\n",
       "      <td>1084939099</td>\n",
       "      <td>165</td>\n",
       "      <td>[{'iso_639_1': 'en', 'name': 'English'}]</td>\n",
       "      <td>Released</td>\n",
       "      <td>The Legend Ends</td>\n",
       "      <td>The Dark Knight Rises</td>\n",
       "      <td>7.6</td>\n",
       "      <td>9106</td>\n",
       "      <td>2012</td>\n",
       "      <td>United States of America</td>\n",
       "      <td>Christopher Nolan</td>\n",
       "      <td>Michael Caine</td>\n",
       "      <td>Gary Oldman</td>\n",
       "      <td>Anne Hathaway</td>\n",
       "    </tr>\n",
       "    <tr>\n",
       "      <th>4</th>\n",
       "      <td>4</td>\n",
       "      <td>260000000</td>\n",
       "      <td>Action|Adventure|Science Fiction</td>\n",
       "      <td>http://movies.disney.com/john-carter</td>\n",
       "      <td>49529</td>\n",
       "      <td>based on novel|mars|medallion|space travel|pri...</td>\n",
       "      <td>English</td>\n",
       "      <td>John Carter</td>\n",
       "      <td>John Carter is a war-weary, former military ca...</td>\n",
       "      <td>43.926995</td>\n",
       "      <td>[{'name': 'Walt Disney Pictures', 'id': 2}]</td>\n",
       "      <td>[{'iso_3166_1': 'US', 'name': 'United States o...</td>\n",
       "      <td>2012-03-07</td>\n",
       "      <td>284139100</td>\n",
       "      <td>132</td>\n",
       "      <td>[{'iso_639_1': 'en', 'name': 'English'}]</td>\n",
       "      <td>Released</td>\n",
       "      <td>Lost in our world, found in another.</td>\n",
       "      <td>John Carter</td>\n",
       "      <td>6.1</td>\n",
       "      <td>2124</td>\n",
       "      <td>2012</td>\n",
       "      <td>United States of America</td>\n",
       "      <td>Andrew Stanton</td>\n",
       "      <td>Lynn Collins</td>\n",
       "      <td>Samantha Morton</td>\n",
       "      <td>Willem Dafoe</td>\n",
       "    </tr>\n",
       "  </tbody>\n",
       "</table>\n",
       "</div>"
      ],
      "text/plain": [
       "   Unnamed: 0     budget  ...      actor_2_name       actor_3_name\n",
       "0           0  237000000  ...  Sigourney Weaver       Stephen Lang\n",
       "1           1  300000000  ...   Keira Knightley  Stellan Skarsgård\n",
       "2           2  245000000  ...       Léa Seydoux      Ralph Fiennes\n",
       "3           3  250000000  ...       Gary Oldman      Anne Hathaway\n",
       "4           4  260000000  ...   Samantha Morton       Willem Dafoe\n",
       "\n",
       "[5 rows x 27 columns]"
      ]
     },
     "execution_count": 4,
     "metadata": {
      "tags": []
     },
     "output_type": "execute_result"
    }
   ],
   "source": [
    "# Η βιβλιοθήκη pandas είναι χρήσιμη για την εργασία με τέτοια δεδομένα\n",
    "import pandas as pd \n",
    "# Διάβασμα του αρχείου 'movie_metadata.csv' \n",
    "data = pd.read_csv(path + \"movies_metadata.csv\") \n",
    "#Στο csv υπαρχούν κελία με nan τιμές\n",
    "#Στις θέσεις αυτές βάζουμε 'UNK' πράγμα που  κάνουμε με την παρακάτω συνάρτηση\n",
    "data.fillna(\"UNK\", inplace=True)\n",
    "# Preview the first 5 lines of the loaded data \n",
    "data.head()"
   ]
  },
  {
   "cell_type": "code",
   "execution_count": 5,
   "metadata": {
    "id": "sPAqSe0n4rUd"
   },
   "outputs": [],
   "source": [
    "def clean_text(text):\n",
    "  text = text.replace(u'\\xa0', u'')\n",
    "  text = text.replace(u\"'\", u'')\n",
    "  return text"
   ]
  },
  {
   "cell_type": "code",
   "execution_count": 6,
   "metadata": {
    "id": "RcOo0hyJ4rUd"
   },
   "outputs": [],
   "source": [
    "#create World\n",
    "#Ορίζουμε τον κόσμο μας\n",
    "prolog = Prolog()\n",
    "\n",
    "#Για κάθε row του πίνακα φτιάχνουμε τα κατηγορήματα που θέλουμε να αποθηκέυσουμε\n",
    "#αρχικά σε μια λίστα με το όνομα literals\n",
    "literals = []\n",
    "movie_score = {}\n",
    "for row in data.itertuples(index=True, name='Pandas'):\n",
    "  movie_title = clean_text(getattr(row, 'movie_title'))\n",
    "\n",
    "  for genre in getattr(row, 'genres').split(\"|\"):\n",
    "    literals.append(\"genre('\"+ movie_title +\"','\"+ genre +\"')\")\n",
    "    \n",
    "  for director in clean_text(getattr(row, 'director_name')).split(\"|\"):\n",
    "    literals.append(\"director('\"+ movie_title +\"','\"+ director +\"')\")\n",
    "\n",
    "  colorful = True  \n",
    "  for plot in clean_text(getattr(row, 'plot_keywords')).split(\"|\"):\n",
    "    literals.append(\"plot_key('\"+ movie_title +\"','\"+ plot +\"')\")\n",
    "    if plot == 'black and white':\n",
    "      colorful = False\n",
    "  if colorful == True: \n",
    "    #literals.append(\"with_color('\"+ movie_title +\"','\"+ plot +\"')\")\n",
    "    literals.append(\"with_color('\"+ movie_title +\"')\")\n",
    "\n",
    "  for star in clean_text(getattr(row, 'actor_1_name')).split(\"|\"):\n",
    "    literals.append(\"plot_key('\"+ movie_title +\"','\"+ star +\"')\")\n",
    "\n",
    "  for actor in clean_text(getattr(row, 'actor_1_name')).split(\"|\"):\n",
    "    literals.append(\"actor('\"+ movie_title +\"','\"+ actor +\"')\")\n",
    "    \n",
    "  for actor in clean_text(getattr(row, 'actor_2_name')).split(\"|\"):\n",
    "    literals.append(\"actor('\"+ movie_title +\"','\"+ actor +\"')\")\n",
    "    \n",
    "  for actor in clean_text(getattr(row, 'actor_3_name')).split(\"|\"):\n",
    "    literals.append(\"actor('\"+ movie_title +\"','\"+ actor +\"')\")\n",
    "    \n",
    "  for lang in clean_text(getattr(row, 'language')).split(\"|\"):\n",
    "    literals.append(\"language('\"+ movie_title +\"','\"+ lang +\"')\")\n",
    "  \"\"\"\n",
    "  for pop in clean_text(getattr(row, 'popularity')).split(\"|\"):\n",
    "    literals.append(\"popularity('\"+ movie_title +\"','\"+ pop +\"')\")\n",
    "    \"\"\"\n",
    "  vote = (getattr(row, 'vote_average'))\n",
    "  if vote != \"UNK\":\n",
    "    st = (\"vote_average('\"+ movie_title +\"','\"+ \"{v:.1f}\" +\"')\")\n",
    "    #print(st.format(v = vote))\n",
    "    #st = (\"vote_average('\"+ movie_title +\"','{})\")\n",
    "    literals.append(st.format(v = vote))\n",
    "\n",
    "  dur = (getattr(row, 'duration'))\n",
    "  if dur != \"UNK\":\n",
    "    st = (\"duration('\"+ movie_title +\"','\"+ \"{d:.1f}\" +\"')\")\n",
    "    literals.append(st.format(d = dur))\n",
    "\n",
    "#Η Prolog θέλει τα κατηγορήματά της με την σειρά \n",
    "literals.sort()\n",
    "for literal in literals:\n",
    "  prolog.assertz(literal)\n",
    "\n",
    "#Επίσης μπορούμε να κάνουμε consult ένα έτοιμο αρχείο στον κόσμο όπως παρακάτω\n",
    "prolog.consult(path +\"db.pl\")"
   ]
  },
  {
   "cell_type": "code",
   "execution_count": 7,
   "metadata": {
    "id": "61SbKPrg4rUd"
   },
   "outputs": [],
   "source": [
    "#prolog.assertz('(directed_by(X,Y) :- findall(M,director(M,X),Y))')"
   ]
  },
  {
   "cell_type": "code",
   "execution_count": 8,
   "metadata": {
    "colab": {
     "base_uri": "https://localhost:8080/"
    },
    "id": "rw19eVRBD94p",
    "outputId": "cddc4966-9cb8-4add-b162-61a48dee2d1b"
   },
   "outputs": [
    {
     "name": "stdout",
     "output_type": "stream",
     "text": [
      "[Atom('824709'), Atom('1812229'), Atom('1829765'), Atom('1833093'), Atom('2112517'), Atom('803077'), Atom('804229'), Atom('1404293')]\n"
     ]
    }
   ],
   "source": [
    "q = prolog.query(\"directed_by('Christopher Nolan', Y)\")\n",
    "for soln in q:\n",
    "    s = soln['Y'] \n",
    "    print(s)\n",
    "q.close()"
   ]
  },
  {
   "cell_type": "markdown",
   "metadata": {
    "id": "ibe9jBk24rUd"
   },
   "source": [
    "# **2ο Μέρος: Recommendation System με βάση μόνο τα χαρακτηριστικά των ταινιών.**\n",
    "\n",
    "Στο σημείο αυτό με βάση τους κανόνες που κατασκευάστηκαν στο Μέρος 1 θα κατασκευαστούν κατηγορήματα για την ομοιότητα ταινιών. Παρακάτω δίνεται ένα μικρό παράδειγμα ενός κανόνα και πώς αυτός θα μπορούσε να γραφτεί μέσω του Pyswip. Επίσης όπως αναφέρεται και σε σχόλιο παραπάνω θα μπορεί να γραφτεί και μια βάση δεδομένων με τους κανόνες και να γίνει απευθείας consult.\n",
    "\n",
    "Στο παρακάτω παράδειγμα το 5 και το 4 εκφράζουν την ομοιότητα των ταινιών π.χ. οι ταινίες που παράγονται μέσω του find_similar_5 είναι πιο όμοιες από αυτές που παράγονται μέσω του find_similar_4. \n"
   ]
  },
  {
   "cell_type": "markdown",
   "metadata": {
    "id": "vb_mj82OS9ka"
   },
   "source": [
    "**Επεξήγηση**<br>\n",
    "Παρακάτω υλοιποιήσαμε συναρτήσεις οι οποίες με είσοδο μία ταινία επιστρέφουν τις ταινίες που μοιάζουν με αυτή ως προς κάποιο κριτήριο όπως το θέμα, οι ηθοποιοί, ο σκηνοθέτης, η γλώσσα, το χρώμα. Επιστρέφονται τόσο ταινίες που μοιάζουν πολύ όσο και ταινίες που μοιάζουν λιγότερο με βάση την κλίμακα που περιγράφηκε παραπάνω. Οι ταινίες που μοιάζουν πολύ διακρίνονται από αυτές που μοιάζουν λιγότερο καθώς εμφανίζονται σε διαφορετική λίστα.<br>\n",
    "Υλοποιήσαμε: **GenreRecommender,ActorRecommender,DirectorRecommender, ColorRecommender, BestRecommender** (βασίζεται στη βαθμολογία στο IMDB), **LanguageRecommender, DurationRecommender, 5 συνδυαστικούς Recommenders** (5 επίπεδα ομοιότητας) κι έναν **GeneralRecommender** που συνδυάζει τους 5 Recommenders και προτείνει ταινίες σε φθίνουσα λίστα."
   ]
  },
  {
   "cell_type": "code",
   "execution_count": 9,
   "metadata": {
    "id": "hVfcBBpd4rUd"
   },
   "outputs": [],
   "source": [
    "prolog.assertz('''(find_sim_1(X, Y):-\n",
    "                                        genre(X, G1),\n",
    "                                        genre(Y, G1),\n",
    "                                        X \\= Y )''')"
   ]
  },
  {
   "cell_type": "code",
   "execution_count": 10,
   "metadata": {
    "colab": {
     "base_uri": "https://localhost:8080/"
    },
    "id": "kvdh4wig4rUd",
    "outputId": "9091995c-253a-4762-a2a6-9fdeb262b268"
   },
   "outputs": [
    {
     "name": "stdout",
     "output_type": "stream",
     "text": [
      "{'Blackthorn', 'Planet of the Apes', 'Akira', 'RED 2', 'Lucky Numbers', 'Megiddo: The Omega Code 2', 'Star Wars', 'Apocalypto', 'The Adjustment Bureau', 'Spectre', 'Mad Max 2: The Road Warrior', 'Phenomenon', 'Taxman', 'Ghost Rider: Spirit of Vengeance', 'Casper', 'The Secret Life of Bees', 'Witless Protection', 'Harry Potter and the Philosophers Stone', 'Eight Legged Freaks', 'Dawn of the Dead', 'Escape from Tomorrow', 'Death Sentence', 'Half Past Dead', 'Action Jackson', 'Time Bandits', 'The Borrowers', 'The Clan of the Cave Bear', 'Holy Motors', 'Bait', 'Species', 'Doctor Dolittle', '21 Jump Street', 'Bodyguards and Assassins', 'Three Kingdoms: Resurrection of the Dragon', 'Hocus Pocus', 'Jackass Number Two', 'Def-Con 4', 'The Invention of Lying', 'The Bourne Supremacy', 'Beastly', 'Subway', 'The Happening', 'Serenity', 'Snakes on a Plane', 'The Adventures of Sharkboy and Lavagirl', 'The Saint', 'Capricorn One', 'Spy Kids', 'Fools Gold', 'King Kong', 'Defendor', 'No Escape', 'Blue Crush', 'Executive Decision', 'Outbreak', 'Bullets Over Broadway', 'The One', 'All Hat', 'I Am Number Four', 'Stormbreaker', 'Wild Wild West', 'Digimon: The Movie', 'Rise of the Guardians', 'Hot Fuzz', 'Rabbit-Proof Fence', 'War', 'Recess: Schools Out', 'In Too Deep', 'Speed', 'DragonHeart', 'The Princess Bride', 'Close Range', 'Stake Land', 'Small Soldiers', 'Crocodile Dundee II', 'Machete Kills', 'Kick-Ass 2', 'Star Trek V: The Final Frontier', 'Twilight', 'Romeo Is Bleeding', 'Wicked Blood', 'Olympus Has Fallen', 'Mr. Peabody & Sherman', 'Just My Luck', 'George of the Jungle', 'Bruce Almighty', 'An American Carol', 'Micmacs', 'The Other Guys', 'Sunshine', 'Beowulf', 'Day of the Dead', 'Kill Bill: Vol. 1', 'Teenage Mutant Ninja Turtles: Out of the Shadows', 'The Hunger Games', 'The Hunger Games: Catching Fire', 'Dune', 'Practical Magic', 'Zoom', 'Planet 51', 'Dance Flick', 'The Siege', 'Signs', 'Penguins of Madagascar', 'Mad Money', 'eXistenZ', 'The Adventures of Tintin', 'State of Play', 'Cirque du Freak: The Vampires Assistant', 'The SpongeBob Movie: Sponge Out of Water', 'Cars 2', 'The Last Shot', 'DOA: Dead or Alive', 'Wing Commander', 'Nims Island', 'Dead Like Me: Life After Death', 'Shipwrecked', 'Roar', 'Its a Wonderful Life', 'Hudson Hawk', 'Stuart Little', 'The Hit List', 'Mars Needs Moms', 'Krull', 'National Lampoons Vacation', 'The Cat in the Hat', 'Alien: Resurrection', 'In Her Line of Fire', 'Penitentiary', 'Dragonball Evolution', 'Vessel', 'Bill & Teds Bogus Journey', 'Gentlemen Broncos', 'Repo Man', 'Brick Mansions', 'The Adventures of Ford Fairlane', 'Ladder 49', 'The Curious Case of Benjamin Button', 'Spy Kids: All the Time in the World', 'On Her Majestys Secret Service', 'Hook', 'Steel', 'The Four Feathers', 'Tomorrowland', 'Transformers', 'Munich', 'Risen', 'Mortal Kombat', '12 Rounds', 'Jurassic Park III', 'The Incredible Hulk', 'Hot Pursuit', 'The Sticky Fingers of Time', 'Last Holiday', 'Ghostbusters', 'The Invasion', 'Mars Attacks!', 'The Masked Saint', 'Jumper', 'Automata', 'The Wizard of Oz', 'Three Kings', 'Resident Evil', 'A Scanner Darkly', 'Elf', 'Mulan', 'Sausage Party', 'The Fountain', 'Predator 2', 'X-Men: Apocalypse', 'Fury', 'Training Day', 'Stuart Little 2', 'The Monuments Men', 'I, Robot', 'Red State', 'The Tempest', 'Wasabi', 'The Devils Tomb', 'Alvin and the Chipmunks: The Road Chip', 'District 9', 'Austin Powers in Goldmember', 'Hitman', 'Priest', 'Hotel Transylvania', 'The Good, The Bad, The Weird', 'Rat Race', 'Drive', 'Maze Runner: The Scorch Trials', 'St. Trinians', 'Alexander', 'Gridiron Gang', 'Journey to the Center of the Earth', 'The Chronicles of Narnia: The Voyage of the Dawn Treader', 'Live and Let Die', 'The Green Hornet', 'Beetlejuice', '10th & Wolf', 'Rob Roy', 'The Stepford Wives', 'Rango', 'A Simple Wish', 'Dead Man Down', 'Big Trouble', 'Ace Ventura: When Nature Calls', 'S.W.A.T.', 'Suicide Squad', 'Fortress', 'Lockout', 'The Adventurer: The Curse of the Midas Box', 'Mortal Kombat: Annihilation', 'Enter the Void', 'The Jungle Book 2', 'Sphere', 'Terminator 2: Judgment Day', 'Grand Theft Parsons', 'Warriors of Virtue', 'Cop Out', 'The Quiet American', 'The Kingdom', 'Shrek', 'The Dead Undead', 'VeggieTales: The Pirates Who Dont Do Anything', 'Galaxy Quest', 'Jade', 'Corpse Bride', 'The Mummy: Tomb of the Dragon Emperor', 'Beasts of the Southern Wild', 'Moby Dick', 'The Mexican', 'Northfork', 'Nanny McPhee', 'The Scorpion King', 'A Lonely Place to Die', 'Little Nicky', 'Jane Got a Gun', 'Cast Away', 'Virtuosity', 'Ghost', 'Krampus', 'Hard to Be a God', 'The Last Airbender', 'The Long Kiss Goodnight', 'My Favorite Martian', 'Iron Man', 'Vertical Limit', 'Highway', 'Hit & Run', 'Dreamcatcher', 'Shinjuku Incident', 'Willy Wonka & the Chocolate Factory', 'Alvin and the Chipmunks: Chipwrecked', 'The Road to El Dorado', '28 Weeks Later', 'Bad Boys II', 'Titan A.E.', 'The Nutcracker', 'Hellboy II: The Golden Army', 'Shanghai Knights', 'The Crazies', 'The Blood of Heroes', 'The Last Dragon', 'Gladiator', 'Thomas and the Magic Railroad', 'Spawn', 'The Last of the Mohicans', 'Airlift', 'Happily NEver After', 'The Matador', 'Interstellar', 'Kung Fu Jungle', 'Baby Geniuses', '2012', 'The Lovely Bones', 'The Mummy Returns', 'Unsullied', 'Sinbad: Legend of the Seven Seas', 'Space Jam', 'G.I. Joe: Retaliation', 'Silver Medalist', 'Ninja Assassin', 'First Blood', 'Enchanted', 'Meet Joe Black', 'Babylon A.D.', 'The Pacifier', 'We Were Soldiers', 'Harry Brown', 'Beyond the Black Rainbow', 'Virgin Territory', 'The Perfect Wave', 'The Chronicles of Narnia: The Lion, the Witch and the Wardrobe', 'Love Me Tender', 'Once Upon a Time in Mexico', 'Star Trek Into Darkness', 'Knight and Day', 'Eraserhead', 'My Stepmother is an Alien', 'Kick-Ass', 'On Deadly Ground', 'Robin Hood', 'Jonah Hex', 'Sorcerer', 'Repo! The Genetic Opera', 'Swordfish', 'ParaNorman', 'Minority Report', 'Containment', 'Battlefield Earth', 'Alice in Wonderland', 'Die Hard: With a Vengeance', 'Eagle Eye', 'I Am Wrath', 'Inkheart', 'Pineapple Express', 'Asterix at the Olympic Games', 'Dark City', 'The 6th Day', '2 Fast 2 Furious', 'Life of Pi', 'The Hunted', 'A Monster in Paris', 'Eternal Sunshine of the Spotless Mind', 'Predator', 'Dum Maaro Dum', 'U.F.O.', 'Cellular', 'Sleeper', 'Man of Steel', 'Code of Honor', 'Crank: High Voltage', 'Bubba Ho-tep', 'Escape from L.A.', 'Along Came a Spider', 'Ultraviolet', 'Bad Company', 'Everest', 'Anacondas: The Hunt for the Blood Orchid', 'Ice Age: Continental Drift', 'Lion of the Desert', 'Sicario', 'Into the Storm', 'The NeverEnding Story', 'Treasure Planet', 'Queen Crab', 'Medicine Man', 'Get Smart', 'Grabbers', 'Heavy Metal', 'Out of Inferno', 'Paint Your Wagon', 'Valiant', 'White House Down', 'Queen of the Mountains', 'Repo Men', 'The French Connection', 'Tombstone', 'The Good Dinosaur', 'The Fugitive', 'Alive', 'Flushed Away', 'Anaconda', 'For Your Eyes Only', 'Batman Begins', 'Godzilla 2000', 'The Mask of Zorro', 'Nutty Professor II: The Klumps', 'Minions', 'Percy Jackson: Sea of Monsters', 'White Noise 2: The Light', 'Batman: The Dark Knight Returns, Part 2', 'Wind Walkers', 'The Hole', 'The Lawnmower Man', 'Noah', 'Dances with Wolves', 'Ghosts of Mars', 'George and the Dragon', 'Double Impact', 'Space Cowboys', 'The Empire Strikes Back', 'Mad Max Beyond Thunderdome', 'Timecop', 'Muppets from Space', 'Scott Pilgrim vs. the World', 'Machine Gun Preacher', 'Quarantine', 'Frozen', 'The Little Prince', 'Monster House', 'Rotor DR1', 'The Age of Adaline', 'Pirates of the Caribbean: The Curse of the Black Pearl', 'The Man', 'Gone in Sixty Seconds', 'Shin Godzilla', 'Loves Abiding Joy', 'Timeline', 'Mirrormask', 'Cinderella', 'A Man Apart', 'The Man in the Iron Mask', 'Charly', 'Ghost Town', 'The Signal', 'Damnation Alley', 'The Three Burials of Melquiades Estrada', 'All Superheroes Must Die', 'The Twilight Saga: New Moon', 'Lara Croft: Tomb Raider', 'Moon', 'Dawn of the Crescent Moon', 'The Animal', 'New Nightmare', 'The Legend of Drunken Master', 'Stranger Than Fiction', 'Death Becomes Her', 'Inglourious Basterds', 'Rush Hour 3', 'Memoirs of an Invisible Man', 'Iron Man 2', 'The Last Stand', 'Decoys', 'The Blue Lagoon', 'The Brothers Bloom', 'The Hobbit: An Unexpected Journey', 'The Specials', 'Beautiful Creatures', 'The Tourist', 'Warlock', 'Alien Zone', 'Underworld: Evolution', 'E.T. the Extra-Terrestrial', 'Hanna', 'The Replacement Killers', 'Lone Wolf McQuade', 'Cargo', 'The Legend of the Lone Ranger', 'Man on Fire', 'Vantage Point', 'Midnight Special', 'Goldfinger', 'Atlas Shrugged Part II', 'Assassins', 'Deadpool', 'Last Action Hero', 'The Sisterhood of the Traveling Pants 2', 'The Ghost and the Darkness', 'The Protector', 'Enders Game', 'The Adventures of Rocky & Bullwinkle', 'Steamboy', 'Tears of the Sun', 'Miss Congeniality 2: Armed and Fabulous', 'Heavenly Creatures', 'Excessive Force', 'Kicks', 'Aliens', 'Silverado', 'Run Lola Run', 'Unstoppable', 'Star Trek: Nemesis', 'Galaxina', 'Keanu', 'Bang Bang Baby', 'The Walking Deceased', 'Patriot Games', 'The Life Aquatic with Steve Zissou', 'One Mans Hero', 'Joe Dirt', 'The Spy Who Loved Me', 'Green Zone', 'The Brain That Wouldnt Die', 'Gremlins 2: The New Batch', 'Made', 'My Super Ex-Girlfriend', 'Road Trip', 'Underworld', 'Drive Angry', 'The Negotiator', 'After Earth', 'Tora! Tora! Tora!', 'Find Me Guilty', 'Jurassic World', 'Where the Wild Things Are', 'The Butterfly Effect', 'The Man from Earth', 'Furious 7', 'Down Terrace', 'Firestorm', 'The Legend of Zorro', 'The November Man', 'The Giver', 'After the Sunset', 'Perfume: The Story of a Murderer', 'The Haunting', 'The Nut Job', 'Driven', 'Ex Machina', 'Stargate: The Ark of Truth', 'The Time Machine', 'Independence Day: Resurgence', 'Act of Valor', 'Dinner Rush', 'The Tree of Life', 'Enter Nowhere', 'Watchmen', 'Basic', 'Dark Blue', 'Taken 2', 'Alatriste', 'Superman III', 'Conan the Barbarian', 'Resident Evil: Afterlife', 'Shade', 'MacGruber', 'Skyfall', 'Desperado', 'Night at the Museum', '13 Hours: The Secret Soldiers of Benghazi', 'The Chronicles of Riddick', 'Halloween III: Season of the Witch', 'Zathura: A Space Adventure', 'Mercy Streets', 'The Marine', 'Grindhouse', 'Good Boy!', 'Space Pirate Captain Harlock', 'Corky Romano', 'Eight Below', 'Congo', 'Twilight Zone: The Movie', 'The Toxic Avenger', 'Changing Lanes', 'The Baader Meinhof Complex', 'Body of Lies', 'Jurassic Park', 'The Peacemaker', 'Princess Mononoke', 'Superman', 'Hugo', 'Eraser', 'The Island', 'Harsh Times', 'Con Air', 'Never Back Down 2: The Beatdown', 'Being John Malkovich', 'Kung Pow: Enter the Fist', 'Saints and Soldiers', 'Walking Tall', 'Atlas Shrugged Part III: Who is John Galt?', 'Black November', 'Legend of a Rabbit', 'Smokin Aces', 'The Greatest Show on Earth', 'They Live', 'Knowing', 'Heist', 'The Fifth Element', 'Mission: Impossible - Ghost Protocol', 'The Lion of Judah', 'San Andreas', 'Gremlins', 'Riddick', 'Grosse Pointe Blank', 'Khiladi 786', 'Royal Kill', 'This Is the End', 'The Jungle Book', 'Tower Heist', 'Maleficent', 'Paycheck', 'Shanghai Surprise', 'Bulletproof Monk', 'Monsters vs Aliens', 'Ronin', 'Gun Shy', 'The Crew', '28 Days Later', 'Bandidas', 'The Big Hit', 'Bon Cop Bad Cop', 'Elektra', 'Hereafter', 'Die Another Day', '13 Going on 30', 'Sleep Dealer', 'Pontypool', 'Transporter 2', 'The Imaginarium of Doctor Parnassus', 'Live Free or Die Hard', 'Cirque du Soleil: Worlds Away', 'Touching the Void', 'Octopussy', 'The Prisoner of Zenda', 'Reign of Fire', 'Why I Did (Not) Eat My Father', 'All The Queens Men', 'Airborne', 'Bathory: Countess of Blood', 'Maximum Risk', 'Armageddon', 'Fled', 'Back to the Future Part II', 'Wolf', '30 Minutes or Less', 'Need for Speed', 'Sherlock Holmes: A Game of Shadows', 'Catch a Fire', 'Sliding Doors', 'Reno 911!: Miami', 'Captain America: The Winter Soldier', 'Barbarella', 'El Mariachi', 'Braveheart', 'Alien³', 'Paul Blart: Mall Cop 2', 'The Flintstones in Viva Rock Vegas', 'The Last Samurai', 'Spy Hard', 'The Art of War', 'Bloodsport', 'Jimmy Neutron: Boy Genius', 'The World Is Not Enough', 'The Prince', 'Children of Men', 'Fantastic 4: Rise of the Silver Surfer', 'Rise of the Planet of the Apes', 'X2', 'Insurgent', 'Babe: Pig in the City', 'Valley of the Wolves: Iraq', 'The Hobbit: The Desolation of Smaug', 'Rockaway', 'The Descent', 'Alvin and the Chipmunks: The Squeakquel', 'Snowpiercer', 'A.I. Artificial Intelligence', 'Seven Samurai', 'The Emperors New Groove', 'Under the Skin', 'The Iron Giant', 'Killer Elite', 'The Prince of Egypt', 'The Sweeney', 'The Specialist', 'Catch That Kid', 'Laws of Attraction', 'Benji', 'Big Hero 6', 'Super 8', 'Hot Rod', 'Extreme Ops', 'Fantastic Mr. Fox', 'In Time', 'Perrier’s Bounty', 'I Origins', 'Mr. & Mrs. Smith', 'Mission: Impossible - Rogue Nation', 'Blindness', 'The First Great Train Robbery', 'Kung Fu Hustle', 'United 93', 'Nerve', 'The Time Travelers Wife', 'The Spy Next Door', 'Kingdom of the Spiders', 'Dantes Peak', 'The Purge: Election Year', 'Waterworld', 'xXx', 'Equilibrium', 'Thunderbirds', 'Agora', 'Blade II', 'Warrior', 'Peggy Sue Got Married', 'Looper', 'Star Wars: Episode I - The Phantom Menace', 'The Visitors', 'Mad Max', 'The Man from U.N.C.L.E.', 'Crossover', 'Duma', 'Journey to Saturn', 'Paul', 'The Fast and the Furious', 'Super Mario Bros.', 'The Twilight Saga: Breaking Dawn - Part 2', 'Skin Trade', 'Snow Dogs', 'Terminator Genisys', '1911', 'Shadow Conspiracy', 'Monte Carlo', 'Snow White and the Huntsman', 'Night at the Museum: Battle of the Smithsonian', 'Star Trek: The Motion Picture', 'Soul Surfer', 'The Secret of Kells', 'The Pink Panther', 'The Beach', 'Splice', 'Nighthawks', 'The Forbidden Kingdom', 'The X Files', 'Clockstoppers', 'Monkeybone', 'Vanilla Sky', 'The Young and Prodigious T.S. Spivet', 'The Box', 'Supernova', 'Multiplicity', 'G.I. Jane', 'Spaceballs', 'Scarface', 'Independence Daysaster', 'Tango & Cash', 'Dragon Wars: D-War', 'The Visitors II: The Corridors of Time', 'Underworld: Rise of the Lycans', 'The Hobbit: The Battle of the Five Armies', 'Tidal Wave', 'Mystery Men', 'Speed 2: Cruise Control', 'Herbie Fully Loaded', 'Into the Blue', 'Sin City', 'Timecrimes', 'Hud', 'Click', 'Gangster Squad', 'Immortals', '2001: A Space Odyssey', 'Gamer', 'Master and Commander: The Far Side of the World', 'Next Day Air', 'Money Train', 'Ip Man 3', 'The Astronauts Wife', 'The Pursuit of D.B. Cooper', 'The Timber', 'Invasion U.S.A.', 'Midnight in Paris', 'Fear and Loathing in Las Vegas', 'Star Trek VI: The Undiscovered Country', 'The Core', 'Shooter', 'Return to Never Land', 'The Hunting Party', 'Alien', 'Team America: World Police', 'Dick Tracy', 'Vampires', 'The Rage: Carrie 2', 'In the Heart of the Sea', 'Pixels', 'Killers', 'Salvation Boulevard', 'Divergent', 'The Fourth Kind', 'Petes Dragon', 'D.E.B.S.', 'Battleship', 'Troy', 'Flight of the Phoenix', 'Good Kill', 'Kiss of the Dragon', 'Queen of the Damned', 'The Hunger Games: Mockingjay - Part 2', 'Mission: Impossible II', 'Winters Tale', 'RoboCop 3', 'The Triplets of Belleville', 'R.I.P.D.', 'Homefront', 'The Mask', 'Chicago', 'Doom', 'Street Kings', 'Ice Age: The Meltdown', 'Aladdin', 'Back to the Future', 'Quantum of Solace', 'Point Break', 'Holes', 'Around the World in 80 Days', 'End of the Spear', 'Event Horizon', 'Legend of the Guardians: The Owls of GaHoole', 'Undisputed', 'Blades of Glory', 'The Smurfs', '3 Days to Kill', 'G-Force', 'Chill Factor', 'The Running Man', 'The Golden Child', 'Blade: Trinity', 'Troop Beverly Hills', 'The Ballad of Cable Hogue', 'The Book of Life', 'The Transporter Refueled', 'The Monkey King 2', 'Dont Be Afraid of the Dark', 'Zambezia', 'Fetching Cody', 'H.', 'Die Hard 2', 'Wild Hogs', 'The Man with the Golden Gun', 'The Faculty', 'Thor: The Dark World', 'Contagion', 'The Bodyguard', 'Annie Get Your Gun', 'The Darkest Hour', 'Circle', 'Mission: Impossible', 'Puss in Boots', 'Batman v Superman: Dawn of Justice', 'Special', 'Pound of Flesh', 'National Treasure', 'Austin Powers: The Spy Who Shagged Me', 'The Helix... Loaded', 'True Lies', 'The Blues Brothers', 'The Horseman on the Roof', 'The Lost Skeleton of Cadavra', 'Torque', 'The Kid', 'Superman II', 'Sweet Sweetbacks Baadasssss Song', 'Year One', 'Metropolis', 'Warcraft', 'Impostor', 'All Is Lost', 'The Bounty', 'Sahara', 'Sound of My Voice', 'Deterrence', 'The Last Godfather', 'Bedazzled', 'The Living Daylights', 'The Indian in the Cupboard', 'Gerry', 'Resident Evil: Retribution', 'X-Men: First Class', 'Crossroads', 'Its a Mad, Mad, Mad, Mad World', 'Krrish', 'The Andromeda Strain', 'Daybreakers', 'Blade Runner', 'Flight of the Intruder', 'The 51st State', 'Hollywood Homicide', '22 Jump Street', 'Aliens in the Attic', 'The Mechanic', 'Road House', 'Echo Dr.', 'Elysium', 'Renaissance', 'Curious George', 'How to Train Your Dragon 2', 'Bullet to the Head', 'Into the Grizzly Maze', 'Robot & Frank', 'The Newton Boys', 'The Death and Life of Bobby Z', 'Brazil', 'Silmido', 'Scooby-Doo 2: Monsters Unleashed', 'BloodRayne', 'Get Carter', 'Transcendence', 'Kites', 'Oz: The Great and Powerful', 'Guardians of the Galaxy', 'Charlottes Web', 'AVP: Alien vs. Predator', 'Clash of the Titans', 'Swelter', 'Back to the Future Part III', 'Up', 'Donovans Reef', 'The Croods', 'Unleashed', 'Disaster Movie', 'From Paris with Love', 'Red Planet', 'Confidence', 'Big Miracle', 'Austin Powers: International Man of Mystery', 'Do You Believe?', 'The Lord of the Rings: The Fellowship of the Ring', 'The 13th Warrior', 'Stealing Harvard', 'Crank', 'Criminal', 'Videodrome', 'The Raid', 'Dragon Blade', 'Sky Captain and the World of Tomorrow', 'Non-Stop', 'The Lost World: Jurassic Park', 'Epic Movie', 'Cypher', 'Nowhere to Run', 'Hellboy', 'The Nutcracker: The Untold Story', 'Highlander', 'Cube', 'Silent Trigger', 'Yesterday Was a Lie', 'The Legend of Gods Gun', 'Stolen', 'Navy Seals vs. Zombies', 'V for Vendetta', 'Death Race 2000', 'Wrath of the Titans', 'Rampage', 'Young Guns', 'A Sound of Thunder', 'Down to Earth', 'True Romance', 'The Revenant', 'Pirates of the Caribbean: On Stranger Tides', 'Takers', 'Area 51', 'Lucky Break', 'Henry V', 'Edge of Tomorrow', 'Primer', 'Return of the Living Dead 3', 'The Last Castle', 'Alpha and Omega: The Legend of the Saw Tooth Cave', 'Jack Ryan: Shadow Recruit', 'The Mighty Macs', 'Antarctica: A Year on Ice', 'The X Files: I Want to Believe', 'Deep Impact', 'Thunderball', 'The Cave', 'Spy Kids 2: The Island of Lost Dreams', 'C.H.U.D.', 'Licence to Kill', 'The Legend of Hercules', 'Checkmate', 'The Wiz', '1941', 'District B13', 'RoboCop', 'Whats the Worst That Could Happen?', 'Never Say Never Again', 'Poseidon', 'The River Wild', 'Hells Angels', 'Lost in Space', 'The Craft', 'Sugar Hill', 'Pompeii', 'Cradle 2 the Grave', 'Beverly Hills Cop III', 'The Crow', 'The Illusionist', 'RockNRolla', 'The Covenant', 'Antiviral', 'The Tale of Despereaux', 'Flatliners', 'House of Flying Daggers', 'Midnight Run', 'Battle for the Planet of the Apes', 'Double Take', 'Mary Poppins', 'Delgo', 'The Haunted Mansion', 'Shrek Forever After', 'Across the Universe', 'X-Men: The Last Stand', 'Showdown in Little Tokyo', 'Red Riding Hood', 'WarGames', 'Nicholas Nickleby', 'Raiders of the Lost Ark', 'Crazy Stone', 'Taken', 'The True Story of Puss n Boots', 'Code Name: The Cleaner', 'Bogus', 'Miss Congeniality', 'American Ninja 2: The Confrontation', 'Harley Davidson and the Marlboro Man', 'Alone in the Dark', 'Antitrust', 'Her', 'Superman IV: The Quest for Peace', 'Astro Boy', 'Spider-Man 2', 'Kingdom of Heaven', 'Breakdown', 'Feast', 'The Hunger Games: Mockingjay - Part 1', 'The Boys from Brazil', 'Jekyll and Hyde ... Together Again', 'Dracula Untold', 'The Lord of the Rings: The Return of the King', 'Reign of Assassins', 'Nomad: The Warrior', 'What Dreams May Come', 'Nanny McPhee and the Big Bang', 'Hansel & Gretel: Witch Hunters', 'Rio 2', 'Sucker Punch', 'Parker', 'Chain Reaction', 'A Low Down Dirty Shame', 'Switchback', 'Cop Land', 'Into the Woods', 'The Boondock Saints', 'Bedtime Stories', 'Cloud Atlas', 'Johnny English Reborn', 'Harry Potter and the Chamber of Secrets', 'Gangsters Paradise: Jerusalema', 'Paparazzi', 'Batman Forever', 'Split Second', 'Terminator 3: Rise of the Machines', 'The Postman', 'Terminator Salvation', 'Legends of the Fall', 'Rugrats in Paris: The Movie', 'The Muppet Movie', 'Windtalkers', 'Melancholia', 'Predators', 'Oldboy', 'Harold & Kumar Escape from Guantanamo Bay', 'The Man from Snowy River', 'Alvin and the Chipmunks', 'Indiana Jones and the Kingdom of the Crystal Skull', 'From Dusk Till Dawn', 'John Carter', 'The Lost Medallion: The Adventures of Billy Stone', 'The I Inside', 'Night at the Museum: Secret of the Tomb', 'Lara Croft Tomb Raider: The Cradle of Life', 'Battle: Los Angeles', 'The Wicked Lady', 'Army of Darkness', 'Ted', 'The Purge', 'Jack Brooks: Monster Slayer', 'Punisher: War Zone', 'Supercross', 'Deuces Wild', 'Batman & Robin', 'Charlies Angels: Full Throttle', 'Nebraska', 'Six-String Samurai', 'Edward Scissorhands', 'Ride Along', 'March or Die', 'Teenage Mutant Ninja Turtles II: The Secret of the Ooze', 'The Yards', 'Smillas Sense of Snow', 'The Great Raid', 'Dark Shadows', 'Prophecy', 'Chain of Command', 'U-571', 'A View to a Kill', 'Megamind', 'The Bourne Identity', 'Spy Game', 'Compadres', 'Southpaw', 'Alice Through the Looking Glass', 'One for the Money', 'Mission to Mars', 'Left Behind', 'The Charge of the Light Brigade', 'Charlie and the Chocolate Factory', 'Iron Man 3', 'Screwed', 'Allegiant', 'Home Alone 2: Lost in New York', 'The Ice Pirates', 'Death Race', 'Bloody Sunday', 'This Means War', 'The Green Mile', 'The Barbarians', 'Paul Blart: Mall Cop', 'Moonraker', 'Jack the Giant Slayer', 'Black Knight', 'The Other Side of Heaven', '16 Blocks', 'Fantastic Four', 'The Promise', 'Tracker', 'The Muppet Christmas Carol', 'The Limey', 'Tank Girl', 'The Messenger: The Story of Joan of Arc', 'All About the Benjamins', 'Central Intelligence', 'Sanctum', 'Red Tails', 'The Italian Job', 'Conan the Destroyer', 'The Man with the Iron Fists', 'Mad City', 'Triple 9', 'Exit Wounds', 'Running Scared', 'Topaz', 'Harry Potter and the Goblet of Fire', 'Tropic Thunder', 'The Thief and the Cobbler', 'Creative Control', 'Exodus: Gods and Kings', 'The Proposition', 'Gattaca', 'Dragonslayer', 'Die Hard', 'Street Fighter', 'Jaws: The Revenge', 'Man on a Ledge', 'Teenage Mutant Ninja Turtles III', 'The Transporter', 'Kung Fu Panda', 'Mad Max: Fury Road', 'Plastic', 'Star Trek Beyond', 'Lethal Weapon 4', 'Southland Tales', 'Howls Moving Castle', 'Transformers: Revenge of the Fallen', 'The Odd Life of Timothy Green', 'Bandits', 'Captain Phillips', 'Boom Town', 'The Hunt for Red October', 'War, Inc.', 'Babys Day Out', 'Ghost Rider', 'X-Men: Days of Future Past', 'Daylight', 'Tomorrow Never Dies', 'Twister', 'Machete', 'Undercover Brother', 'Godsend', 'The Dark Hours', 'The Snow Queen', 'Shrek 2', 'GoldenEye', 'The Book of Eli', 'The Dukes of Hazzard', 'The Thing', 'Bangkok Dangerous', 'Colombiana', 'Exorcist II: The Heretic', 'Wreck-It Ralph', 'The Family Man', 'The Spirit', 'The Brave Little Toaster', 'Shaolin Soccer', 'Indiana Jones and the Temple of Doom', 'Alex Cross', 'Set It Off', 'Phantasm II', 'The Land Before Time', 'Rapa Nui', 'I Am Legend', 'Ella Enchanted', 'Code 46', 'Men of War', 'Super', 'Saving Private Perez', 'Lake Placid', 'Lone Survivor', '55 Days at Peking', 'Behind Enemy Lines', 'Nancy Drew', 'Never Back Down', 'Taken 3', 'Blade', 'Attack the Block', 'Teenage Mutant Ninja Turtles', 'Æon Flux', 'Run All Night', 'Harry Potter and the Prisoner of Azkaban', 'Ironclad', 'Green Street Hooligans: Underground', 'The Good Night', 'The Walk', 'Arthur and the Invisibles', 'Land of the Lost', 'Hulk', 'The Bourne Legacy', 'Rollerball', 'O Brother, Where Art Thou?', 'The BFG', 'Muppets Most Wanted', 'Victor Frankenstein', 'Contraband', 'Spirit: Stallion of the Cimarron', '3 Strikes', 'Shaft', 'The Grey', 'The Blue Butterfly', 'Escape from Planet Earth', 'Kickboxer: Vengeance', 'Red Dawn', 'The Forsaken', 'Source Code', 'Force 10 from Navarone', 'The Ant Bully', 'Born Of War', 'The Finest Hours', 'The Twilight Saga: Eclipse', 'Armored', 'American Heist', 'The Brass Teapot', 'Savva. Heart of the Warrior', 'The Guard', 'Return of the Jedi', 'Slither', 'Hackers', 'Cliffhanger', 'The Matrix Revolutions', 'What Planet Are You From?', 'Underclassman', 'Conquest of the Planet of the Apes', 'Mercury Rising', 'Kung Fu Panda 3', 'Star Trek II: The Wrath of Khan', 'Megaforce', 'The Wild Thornberrys Movie', 'Men in Black', 'Rescue Dawn', 'Babe', 'Commando', 'Star Wars: Clone Wars: Volume 1', 'The Matrix Reloaded', 'Stealth', 'How to Train Your Dragon', 'Wristcutters: A Love Story', 'The Score', 'Scrooged', 'The Abyss', 'Travellers and Magicians', 'Baahubali: The Beginning', 'Without a Paddle', 'To Die For', 'The Cell', 'Limbo', 'Pain & Gain', 'Transformers: Age of Extinction', 'Sky High', 'Prometheus', 'The Sorcerers Apprentice', 'Mr. Nice Guy', 'Monty Python and the Holy Grail', 'K-PAX', 'American Outlaws', 'Nothing to Lose', 'Spider-Man 3', 'xXx: State of the Union', 'Zombie Hunter', 'Rambo III', 'Harper', 'Lawrence of Arabia', 'Thor', 'The Green Inferno', 'The Legend of Bagger Vance', '300: Rise of an Empire', 'Getaway', 'Trash', 'G.I. Joe: The Rise of Cobra', 'Lady in the Water', 'Oblivion', 'The Santa Clause', 'Journey 2: The Mysterious Island', 'Hero', 'Machine Gun McCain', 'The Last Days on Mars', 'The Road', 'Chronicle', 'The Expendables', 'Texas Rangers', 'The Hebrew Hammer', 'Big Trouble in Little China', 'The Lord of the Rings: The Two Towers', 'The Spiderwick Chronicles', 'Rush Hour 2', 'Rio', 'Earth to Echo', 'Hav Plenty', 'The Way of the Gun', 'Whiteout', 'Robots', 'The Cold Light of Day', 'Star Trek: Generations', 'Final Fantasy: The Spirits Within', 'Men in Black 3', 'About Time', 'Mission: Impossible III', 'Deep Blue Sea', 'Harry Potter and the Order of the Phoenix', 'Mighty Joe Young', 'I Got the Hook Up', 'City of Ember', 'Goosebumps', 'Young Frankenstein', 'Apollo 18', 'Lethal Weapon 3', 'Avengers: Age of Ultron', 'Star Trek III: The Search for Spock', 'Tremors', 'Jupiter Ascending', 'Stone Cold', 'Crouching Tiger, Hidden Dragon', 'The Amazing Spider-Man 2', 'Ong Bak 2', 'Surrogates', 'Premium Rush', 'Disturbing Behavior', 'In the Name of the King III', 'Falcon Rising', 'Knock Off', 'Men in Black II', 'City of Angels', 'Firestarter', 'The Heat', 'Sex Drive', 'The Worlds End', 'Killing Zoe', 'The Matrix', 'Beneath the Planet of the Apes', 'Project Almanac', 'The Order', 'The Corruptor', 'Max', 'Underworld: Awakening', 'Point Blank', 'Rubber', 'The Rundown', 'Bicentennial Man', 'Captain America: The First Avenger', 'Dungeons & Dragons: Wrath of the Dragon God', 'Atlantis: The Lost Empire', 'The Adventures of Pluto Nash', 'The Dark Knight', 'Wolves', 'Ransom', 'The Wolverine', 'The Inhabited Island', 'Ready to Rumble', 'Dredd', 'Six Days Seven Nights', 'Waterloo', 'The Last Legion', 'Teen Wolf Too', '3 Ninjas Kick Back', 'Open Season', 'The Nutty Professor', 'RED', 'The 5th Wave', 'Groundhog Day', 'Idiocracy', 'The Lovers', 'Elite Squad', 'Meet Dave', 'Duplex', 'Forbidden Kingdom', 'The League of Extraordinary Gentlemen', 'Fifty Dead Men Walking', '47 Ronin', 'Class of 1984', 'Beverly Hills Cop', 'Four Brothers', 'Robin Hood: Prince of Thieves', 'Under Siege 2: Dark Territory', 'Curse of the Golden Flower', 'Batman', 'Big Fish', 'The Thirteenth Floor', 'Epic', 'Safe House', 'Jonah: A VeggieTales Movie', 'The Maze Runner', 'September Dawn', 'I Spy', 'Beastmaster 2: Through the Portal of Time', 'Man of the House', 'Cutthroat Island', 'The Expendables 3', 'True Grit', 'The Ghastly Love of Johnny X', 'Spice World', 'The Avengers', 'The Addams Family', 'The Dead Zone', 'Sands of Iwo Jima', '9', 'Tycoon', 'The Marine 4: Moving Target', 'The Divide', 'Tae Guk Gi: The Brotherhood of War', 'The Smurfs 2', '2 Guns', 'Charlies Angels', 'The Great Escape', 'Dr. Dolittle 2', 'Home', 'Enemy of the State', 'The Assassin', 'Dogma', 'Green Lantern', 'End of Days', '127 Hours', 'Star Trek: First Contact', 'Yoga Hosers', 'Bolt', 'Flubber', 'Thunder and the House of Magic', 'TMNT', 'Bee Movie', 'The Terminator', 'War of the Worlds', 'Now You See Me 2', 'Indiana Jones and the Last Crusade', 'Max Payne', '15 Minutes', 'Haywire', 'Unnatural', 'Black Rain', 'Never Let Me Go', 'Young Sherlock Holmes', 'Dr. No', 'The Black Stallion', 'Time Changer', 'Resident Evil: Apocalypse', 'Incident at Loch Ness', 'Tuck Everlasting', 'Womb', 'Invaders from Mars', 'The Astronaut Farmer', 'Hidalgo', 'The Patriot', 'The Brothers Grimm', 'Operation Chromite', 'Inception', 'The Muse', 'Red Sonja', 'The Toxic Avenger Part II', 'Tom Jones', 'The Love Letter', 'Abduction', 'Independence Day', 'Seeking a Friend for the End of the World', 'Jason Goes to Hell: The Final Friday', 'Abraham Lincoln: Vampire Hunter', 'Mirror Mirror', 'Subconscious', 'Ratatouille', 'Agent Cody Banks', 'Batman Returns', 'Kiss Kiss Bang Bang', 'Kiss of Death', 'Caravans', 'The Tuxedo', 'Bridge to Terabithia', 'Like Mike', 'Star Trek IV: The Voyage Home', 'Quest for Camelot', 'Superman Returns', 'Jackass 3D', 'Ant-Man', 'Two Brothers', 'Pokémon: Spell of the Unknown', 'Race to Witch Mountain', 'Safe', 'Safety Not Guaranteed', 'Pirates of the Caribbean: At Worlds End', 'Flipper', 'Menace II Society', 'Space Battleship Yamato', 'Shanghai Noon', 'Shark Tale', 'The Quick and the Dead', 'The Boxtrolls', 'Walking With Dinosaurs', 'Monsters', 'The Rock', 'Free State of Jones', 'Only the Strong', 'Gravity', 'Listening', 'Diamonds Are Forever', 'The Pirates! In an Adventure with Scientists!', 'Soldier', 'The Golden Compass', 'The Curse of the Were-Rabbit', 'Dawn of the Planet of the Apes', 'Pan', 'Gunless', 'Evil Dead II', 'Superhero Movie', 'The Expendables 2', 'Cars', 'The Island of Dr. Moreau', 'Into the Wild', 'First Knight', 'Kill Bill: Vol. 2', 'Beyond Borders', 'The Prophecy', 'The Flintstones', 'Deep Rising', 'Crimson Tide', 'Bill & Teds Excellent Adventure', '2046', 'Heavens Gate', 'Highlander: The Final Dimension', 'Spirited Away', 'The Legend of Tarzan', 'Pandorum', 'The Longest Day', 'The Huntsman: Winters War', 'Jimmy and Judy', 'Fight to the Finish', 'The Dark Knight Rises', 'You Dont Mess with the Zohan', 'X-Men Origins: Wolverine', 'Sherlock Holmes', 'The Bourne Ultimatum', 'Ultramarines: A Warhammer 40,000 Movie', 'Clear and Present Danger', 'Somewhere in Time', 'Hardflip', 'Aquamarine', 'Chappie', 'Volcano', 'Air Force One', 'Osmosis Jones', 'The Warlords', 'Silent Running', 'Speed Racer', 'Proof of Life', 'Carriers', 'The Martian', 'The Grandmaster', 'The Interview', 'Snow White and the Seven Dwarfs', 'I Dreamed of Africa', 'Against the Wild', 'Creature', 'The Host', 'Underdogs', 'CJ7', 'Escape from the Planet of the Apes', 'X-Men', 'Lifeforce', 'The Chronicles of Narnia: Prince Caspian', 'Catwoman', 'Prince of Persia: The Sands of Time', 'The Assassination of Jesse James by the Coward Robert Ford', 'Beverly Hills Chihuahua', 'Warlock: The Armageddon', 'Romeo Must Die', 'Splash', 'Face/Off', 'Shrek the Third', 'Bronson', 'Pocahontas', 'The Lego Movie', 'Blood and Chocolate', 'The Incredibles', 'Evan Almighty', 'A Bugs Life', 'Are We There Yet?', 'Scooby-Doo', 'In the Name of the King: A Dungeon Siege Tale', 'Quest for Fire', 'The Beast from 20,000 Fathoms', 'The Train', 'Antz', '300', 'The Three Musketeers', 'Hot Tub Time Machine', 'Race', 'The Secret Life of Walter Mitty', 'Fighting Tommy Riley', 'Quigley Down Under', 'The Misfits', '3000 Miles to Graceland', 'Malone', 'Donnie Darko', 'Star Trek', 'Yogi Bear', 'Cotton Comes to Harlem', 'Pans Labyrinth', 'Love & Basketball', 'Escape Plan', 'American Sniper', 'Raise the Titanic', 'Payback', 'Brooklyn Rules', 'Bad Boys', 'The Blue Bird', 'Return to the Blue Lagoon', 'Seven Years in Tibet', 'Star Trek: Insurrection', 'Unknown', 'The Equalizer', 'Flash Gordon', 'Survival of the Dead', 'You Only Live Twice', 'Narc', 'The Day the Earth Stood Still', 'From Russia with Love', 'Harry Potter and the Half-Blood Prince', 'Cloverfield', 'Stripes', 'Red Cliff', 'The Call of Cthulhu', 'Spider-Man', 'The Man Who Knew Too Little', 'The Jacket', 'Red Sky', 'The Last Witch Hunter', 'F.I.S.T.', 'Fight Valley', 'The Adventures of Huck Finn', 'Jungle Shuffle', 'Johnny English', 'A Perfect Getaway', 'Starship Troopers', 'Amidst the Devils Wings', 'White Squall', 'Captain America: Civil War', 'Crocodile Dundee', 'Letters from Iwo Jima', 'Domino', 'Platoon', 'Robin and Marian', 'Dylan Dog: Dead of Night', 'Wanted', 'Resident Evil: Extinction', 'The Adventures of Pinocchio', 'Exiled', 'The Wraith', 'Fast Five', 'Das Boot', 'Star Wars: Episode III - Revenge of the Sith', 'Escape from New York', 'Faster', 'Night Watch', 'Harold & Kumar Go to White Castle', 'Madison', 'Solaris', 'The Devils Double', 'High Heels and Low Lifes', 'Arn: The Knight Templar', 'The Mortal Instruments: City of Bones', 'The Day After Tomorrow', 'Pacific Rim', 'The Bounty Hunter', 'Ice Age: Dawn of the Dinosaurs', 'Universal Soldier: The Return', 'London Has Fallen', 'A Knights Tale', 'Brave', 'Firefox', 'Sabotage', 'Just Visiting', 'See Spot Run', 'Cat People', 'Sheena', 'Ladyhawke', 'Ishtar', 'Ride Along 2', 'Detention', 'The Gunman', '10 Cloverfield Lane', 'The Phantom', 'Conspiracy Theory', 'Doomsday', 'On the Road', 'The Amazing Spider-Man', 'Big Mommas: Like Father, Like Son', 'Ink', 'Creepshow', 'Another Earth', 'Pootie Tang', 'Turbulence', 'Beverly Hills Cop II', 'Frequency', 'Spy Kids 3-D: Game Over', 'Self/less', 'Diary of the Dead', 'Just Like Heaven', 'Jason X', 'Hercules', 'Star Wars: Episode II - Attack of the Clones', 'Blue Streak', 'Pirates of the Caribbean: Dead Mans Chest', 'Howard the Duck', 'Percy Jackson & the Olympians: The Lightning Thief', 'Logans Run', 'Rambo: First Blood Part II', 'The Black Hole', 'Max Keebles Big Move', 'The Beastmaster', 'Inspector Gadget', 'Stardust', 'Re-Kill', 'Real Steel', 'Top Gun', 'The Mist', 'London', 'Open Road', 'Transformers: Dark of the Moon', 'Righteous Kill', 'Ice Age', 'Rush', 'Collateral Damage', 'Jason Bourne', 'Dragon Nest: Warriors Dawn', 'Close Encounters of the Third Kind', 'A Passage to India', 'Ballistic: Ecks vs. Sever', 'Letters to God', 'The Sentinel', 'Salt', 'The Losers', 'The Shadow', 'The Punisher', 'The Lone Ranger', 'Kate & Leopold', 'Rumble in the Bronx', 'White Fang', 'World War Z', 'Hancock', 'Jaws', 'Hobo with a Shotgun', 'Casino Royale', 'The Country Bears', 'The Wild Bunch', 'Unbreakable', 'Total Recall', 'The Musketeer', 'The Polar Express', 'Blood Diamond', 'Money Talks', 'Wild Target', 'The Count of Monte Cristo', 'This Thing of Ours', 'Khumba', 'The Warriors Way', 'Snow White: A Tale of Terror', 'Troll Hunter', 'D-Tox', 'Mutant World', 'Nothing', 'Gods of Egypt', 'A Good Day to Die Hard', 'Chicago Overcoat', 'Bubble Boy', 'The Wash', 'Broken Arrow', 'Son of the Mask', 'Small Time Crooks', 'The Crocodile Hunter: Collision Course', 'Contact', 'The Boondock Saints II: All Saints Day', 'Sphinx', 'Days of Thunder', 'Seventh Son', 'The Fast and the Furious: Tokyo Drift', 'Highlander: Endgame', 'The Sum of All Fears', 'The Edge', 'Street Fighter: The Legend of Chun-Li', 'TRON: Legacy', 'Eragon', 'Aliens vs Predator: Requiem', 'The Legend of Hells Gate: An American Conspiracy', 'Return to Oz', 'Skyline', 'How the Grinch Stole Christmas', '20,000 Leagues Under the Sea', 'Mortdecai', 'Crocodile Dundee in Los Angeles', 'Lucy', 'The Jackal', 'Lions for Lambs', 'Big', 'Black Hawk Down', 'Wyatt Earp', 'American Hero', 'Spaced Invaders', 'Meteor', 'Drive Hard', 'The Hitchhikers Guide to the Galaxy', 'Bound by Honor', 'Hollow Man', 'Pitch Black', 'Centurion', 'The Net', 'The Medallion', 'The Glimmer Man', 'Foodfight!', 'The Santa Clause 2', 'Flyboys', 'Heroes of Dirt', 'Kangaroo Jack'}\n"
     ]
    }
   ],
   "source": [
    "q = prolog.query(\"find_sim_1('Avatar', Y)\")\n",
    "s = set()\n",
    "for soln in q:\n",
    "  m = soln['Y'] \n",
    "  if m not in s:\n",
    "    s.add(soln['Y'])\n",
    "print(s)"
   ]
  },
  {
   "cell_type": "code",
   "execution_count": 11,
   "metadata": {
    "id": "bh_jfhPC4rUd"
   },
   "outputs": [],
   "source": [
    "def simple_recommender(movie):\n",
    "    s = set()\n",
    "    q = prolog.query(\"find_sim_1('\" + movie +\"',M)\")\n",
    "    for soln in q:\n",
    "        m = soln['M'] \n",
    "        if m not in s:\n",
    "            s.add(soln['M'])\n",
    "    q.close()\n",
    "    answers = s\n",
    "    return answers"
   ]
  },
  {
   "cell_type": "code",
   "execution_count": 12,
   "metadata": {
    "colab": {
     "base_uri": "https://localhost:8080/"
    },
    "id": "Ug_L_Qx-4rUd",
    "outputId": "29c976a1-fe11-4285-fa30-21263a7c7dd7"
   },
   "outputs": [
    {
     "data": {
      "text/plain": [
       "['Blackthorn', 'Planet of the Apes', 'Akira', 'RED 2', 'Lucky Numbers']"
      ]
     },
     "execution_count": 12,
     "metadata": {
      "tags": []
     },
     "output_type": "execute_result"
    }
   ],
   "source": [
    "list(simple_recommender('Avatar'))[:5]"
   ]
  },
  {
   "cell_type": "markdown",
   "metadata": {
    "id": "X_JQjYtGTAZM"
   },
   "source": [
    "**GenreRecommender**<br>\n",
    "Η συνάρτηση genre_recommender με είσοδο μία ταινία movie επιστρέφει τις πιο κοντινές στο είδος ταινίες με την movie (δηλαδή ταινίες με τουλάχιστον 3 κοινά genre-keywords με την movie). Αν οι ταινίες αυτές είναι λιγότερες από 10 τότε εξετάζει τις ταινίες σχετικά ίδιου είδους με την movie (ταινίες με τουλάχιστον 2 κοινά genre-keywords με την movie) κι τις επιστρέφει σε 2ο σύνολο."
   ]
  },
  {
   "cell_type": "code",
   "execution_count": 13,
   "metadata": {
    "id": "NIKcgzuERLOL"
   },
   "outputs": [],
   "source": [
    "#Recommends movies with similar genre \n",
    "def genre_recommender(movie):\n",
    "    s = set()\n",
    "    w = set()\n",
    "    q = prolog.query(\"very_common('\" + movie +\"',M)\")\n",
    "    for soln in q:\n",
    "        m = soln['M'] \n",
    "        if m not in s and m != movie:\n",
    "            s.add(soln['M'])\n",
    "    q.close()\n",
    "    answers = s\n",
    "    if (len(answers) < 10):\n",
    "      q = prolog.query(\"common('\" + movie +\"',M)\")\n",
    "      for soln in q:\n",
    "        m = soln['M'] \n",
    "        if m not in s and m not in w:\n",
    "          w.add(soln['M'])\n",
    "      q.close()\n",
    "\n",
    "    answers1 = s \n",
    "    answers2 = w \n",
    "    return answers1,answers2"
   ]
  },
  {
   "cell_type": "code",
   "execution_count": 14,
   "metadata": {
    "id": "SdEeXVw4ZeTD"
   },
   "outputs": [],
   "source": [
    "def GenreRecommender(movie):\n",
    "  (recom1, recom2) = list(genre_recommender(movie))\n",
    "  recom1 = list(recom1)[:10]\n",
    "  recom2 = list(recom2)[:10]\n",
    "  print(\"Recommendation filter: GENRE\")\n",
    "  print(\"Chosen movie \" + movie)\n",
    "  print(\"Movies with same genre:\")\n",
    "  print(recom1)\n",
    "  if(len(recom1) < 10):\n",
    "    print(\"Movies with same genre:\")\n",
    "    print(recom2)"
   ]
  },
  {
   "cell_type": "code",
   "execution_count": 15,
   "metadata": {
    "colab": {
     "base_uri": "https://localhost:8080/"
    },
    "id": "EQ7geHxFU7Qo",
    "outputId": "0478f6cb-fbc2-49b3-c139-36b622ffad5c"
   },
   "outputs": [
    {
     "name": "stdout",
     "output_type": "stream",
     "text": [
      "Recommendation filter: GENRE\n",
      "Chosen movie Avatar\n",
      "Movies with same genre:\n",
      "['Spy Kids 3-D: Game Over', 'The Island', 'The Mummy: Tomb of the Dragon Emperor', 'The Lovers', 'Escape from L.A.', 'Planet of the Apes', 'Transformers: Revenge of the Fallen', 'Krull', 'G-Force', 'Star Wars: Episode I - The Phantom Menace']\n"
     ]
    }
   ],
   "source": [
    "GenreRecommender('Avatar')\n"
   ]
  },
  {
   "cell_type": "markdown",
   "metadata": {
    "id": "rsk1U8JUctaB"
   },
   "source": [
    "**ActorRecommender**<br>\n",
    "Η συνάρτηση actor_recommender με είσοδο μία ταινία movie επιστρέφει 10 ταινίες που έχουν τουλάχιστον 3 κοινούς ηθοποιούς με την movie, αλλά και τις ταινίες που έχουν τουλάχιστον 2 κοινούς ηθοποιούς με αυτήν."
   ]
  },
  {
   "cell_type": "code",
   "execution_count": 16,
   "metadata": {
    "id": "Ar1ENTH5ckeS"
   },
   "outputs": [],
   "source": [
    "#Recommends movies with common actors\n",
    "def actor_recommender(movie):\n",
    "    s = set()\n",
    "    w = set()\n",
    "    q = prolog.query(\"all_actors('\" + movie +\"',M)\")\n",
    "    for soln in q:\n",
    "        m = soln['M'] \n",
    "        if m not in s and m != movie:\n",
    "            s.add(soln['M'])\n",
    "    q.close()\n",
    "    answers = s\n",
    "    if (len(answers) < 10):\n",
    "      q = prolog.query(\"many_actors('\" + movie +\"',M)\")\n",
    "      for soln in q:\n",
    "        m = soln['M'] \n",
    "        if m not in s and m not in w:\n",
    "          w.add(soln['M'])\n",
    "      q.close()\n",
    "\n",
    "    answers1 = s \n",
    "    answers2 = w \n",
    "    return answers1,answers2"
   ]
  },
  {
   "cell_type": "code",
   "execution_count": 17,
   "metadata": {
    "id": "eGtoArXPeFzy"
   },
   "outputs": [],
   "source": [
    "def ActorRecommender(movie):\n",
    "  (recom1, recom2) = list(actor_recommender(movie))\n",
    "  recom1 = list(recom1)[:10]\n",
    "  recom2 = list(recom2)[:10]\n",
    "  print(\"Recommendation filter: ACTOR\")\n",
    "  print(\"Chosen movie \" + movie)\n",
    "  print(\"Movies with at least 3 actors in common:\")\n",
    "  print(recom1)\n",
    "  if(len(recom1) < 10):\n",
    "    print(\"Movies with some actors in common:\")\n",
    "    print(recom2)"
   ]
  },
  {
   "cell_type": "code",
   "execution_count": 18,
   "metadata": {
    "colab": {
     "base_uri": "https://localhost:8080/"
    },
    "id": "fTW5sQS3ec6X",
    "outputId": "623526f7-5b27-4b28-9b10-6a12f1966900"
   },
   "outputs": [
    {
     "name": "stdout",
     "output_type": "stream",
     "text": [
      "Recommendation filter: ACTOR\n",
      "Chosen movie The Talented Mr. Ripley\n",
      "Movies with at least 3 actors in common:\n",
      "[]\n",
      "Movies with some actors in common:\n",
      "['Contagion']\n"
     ]
    }
   ],
   "source": [
    "ActorRecommender('The Talented Mr. Ripley')"
   ]
  },
  {
   "cell_type": "markdown",
   "metadata": {
    "id": "AkR2eD8JhZUg"
   },
   "source": [
    "**DirectorRecommender**<br>\n",
    "Η συνάρτηση actor_recommender με είσοδο μία ταινία movie επιστρέφει (το πολύ) 10 ταινίες που έχουν ίδιο σκηνοθέτη με την ταινία movie."
   ]
  },
  {
   "cell_type": "code",
   "execution_count": 19,
   "metadata": {
    "id": "h6ctKjcfh1bh"
   },
   "outputs": [],
   "source": [
    "#Recommends movies of the same director\n",
    "def director_recommender(movie):\n",
    "    s = set()\n",
    "    w = set()\n",
    "    q = prolog.query(\"common_director('\" + movie +\"',M)\")\n",
    "    for soln in q:\n",
    "        m = soln['M'] \n",
    "        if m not in s and m != movie:\n",
    "            s.add(soln['M'])\n",
    "    q.close()\n",
    "    answers = s\n",
    "    return answers"
   ]
  },
  {
   "cell_type": "code",
   "execution_count": 20,
   "metadata": {
    "id": "QPaMRSmQiKVu"
   },
   "outputs": [],
   "source": [
    "def DirectorRecommender(movie):\n",
    "  recom1 = list(director_recommender(movie))[:10]\n",
    "  print(\"Recommendation filter: DIRECTOR\")\n",
    "  print(\"Chosen movie \" + movie)\n",
    "  print(\"Movies of the same director:\")\n",
    "  print(recom1)"
   ]
  },
  {
   "cell_type": "code",
   "execution_count": 21,
   "metadata": {
    "colab": {
     "base_uri": "https://localhost:8080/"
    },
    "id": "5BJZgpWliin1",
    "outputId": "6836f3d7-fd9d-476c-bf75-f41d2cdf3dce"
   },
   "outputs": [
    {
     "name": "stdout",
     "output_type": "stream",
     "text": [
      "Recommendation filter: DIRECTOR\n",
      "Chosen movie The Dark Knight Rises\n",
      "Movies of the same director:\n",
      "['The Dark Knight', 'The Prestige', 'Interstellar', 'Batman Begins', 'Memento', 'Insomnia', 'Inception']\n"
     ]
    }
   ],
   "source": [
    "DirectorRecommender('The Dark Knight Rises')"
   ]
  },
  {
   "cell_type": "markdown",
   "metadata": {
    "id": "q93mkibmnepb"
   },
   "source": [
    "**ColorRecommender**<br>\n",
    "Η συνάρτηση color_recommender με είσοδο μία ταινία movie επιστρέφει 10 ασπρόμαυρες ταινίες αν η movie είναι ασπρόμαυρη και 10 έγχρωμες διαφορετικά."
   ]
  },
  {
   "cell_type": "code",
   "execution_count": 22,
   "metadata": {
    "id": "KnDhe6dXn0Bz"
   },
   "outputs": [],
   "source": [
    "#Recommends movies of the same color\n",
    "def color_recommender(movie):\n",
    "    s = set()\n",
    "    w = set()\n",
    "    q = prolog.query(\"common_color('\" + movie +\"',M)\")\n",
    "    for soln in q:\n",
    "        m = soln['M'] \n",
    "        if m not in s and m != movie:\n",
    "            s.add(soln['M'])\n",
    "    q.close()\n",
    "    answers = s\n",
    "    return answers"
   ]
  },
  {
   "cell_type": "code",
   "execution_count": 23,
   "metadata": {
    "id": "G7KCIM1voG7B"
   },
   "outputs": [],
   "source": [
    "def ColorRecommender(movie):\n",
    "  recom1 = list(color_recommender(movie))[:10]\n",
    "  print(\"Recommendation filter: COLOR\")\n",
    "  print(\"Chosen movie \" + movie)\n",
    "  print(\"Recommended movies:\")\n",
    "  print(recom1)"
   ]
  },
  {
   "cell_type": "code",
   "execution_count": 24,
   "metadata": {
    "colab": {
     "base_uri": "https://localhost:8080/"
    },
    "id": "lhXyxrfhoRbV",
    "outputId": "70a12bbc-e4c5-4685-b848-8f6c6abdf33d"
   },
   "outputs": [
    {
     "name": "stdout",
     "output_type": "stream",
     "text": [
      "Recommendation filter: COLOR\n",
      "Chosen movie The Phantom of the Opera\n",
      "Recommended movies:\n",
      "['Frankenweenie', 'Creative Control', 'Renaissance', 'Frances Ha', 'The Giver']\n"
     ]
    }
   ],
   "source": [
    "#example of black and white movie\n",
    "ColorRecommender('The Phantom of the Opera')"
   ]
  },
  {
   "cell_type": "code",
   "execution_count": 25,
   "metadata": {
    "colab": {
     "base_uri": "https://localhost:8080/"
    },
    "id": "eOtBiR3b-KbP",
    "outputId": "4c3e413f-acf7-4ab9-85bf-3b4c58e0a946"
   },
   "outputs": [
    {
     "name": "stdout",
     "output_type": "stream",
     "text": [
      "Recommendation filter: COLOR\n",
      "Chosen movie The Pianist\n",
      "Recommended movies:\n",
      "['Lonesome Jim', 'Blackthorn', 'Role Models', 'The Dangerous Lives of Altar Boys', 'Scary Movie 4', 'Akira', 'Planet of the Apes', 'The Conformist', 'The Young Victoria', 'Town & Country']\n"
     ]
    }
   ],
   "source": [
    "#example of movie with color\n",
    "ColorRecommender('The Pianist')"
   ]
  },
  {
   "cell_type": "markdown",
   "metadata": {
    "id": "vCexm6LwHPy5"
   },
   "source": [
    "**BestRecommender**<br>\n",
    "Επιστρεφει True μήνυμα αν η επιλεγμένη ταινία έχει βαθμολογία μεγαλύτερη από 7 στο ΙΜDB αλλιώς False."
   ]
  },
  {
   "cell_type": "code",
   "execution_count": 26,
   "metadata": {
    "id": "QAhgL4E9HkuJ"
   },
   "outputs": [],
   "source": [
    "def BestRecommender(movie):\n",
    "    q= prolog.query(\"vote_average('\" + movie +\"',Y)\")\n",
    "    #q = prolog.query(\"great_movie('\" + movie +\"')\")\n",
    "    #print (bool(list(q)))\n",
    "    #q.close()\n",
    "    for soln in q:\n",
    "      s = soln['Y']\n",
    "    #print(s)\n",
    "    if s:\n",
    "      #print(type (s[0]))\n",
    "      if (float (s[0])) > 7.0:\n",
    "       #print('Amazing movie: IMDb score greater than 8')\n",
    "       return True\n",
    "      else:\n",
    "        #print('IMDb score lower than 8')\n",
    "        return False\n",
    "    q.close()"
   ]
  },
  {
   "cell_type": "code",
   "execution_count": 27,
   "metadata": {
    "colab": {
     "base_uri": "https://localhost:8080/"
    },
    "id": "J7wXhjZXJDCA",
    "outputId": "f59e2d09-c9e6-48e8-b097-4c3b9a3aadc8"
   },
   "outputs": [
    {
     "data": {
      "text/plain": [
       "True"
      ]
     },
     "execution_count": 27,
     "metadata": {
      "tags": []
     },
     "output_type": "execute_result"
    }
   ],
   "source": [
    "BestRecommender('The Godfather')"
   ]
  },
  {
   "cell_type": "code",
   "execution_count": 28,
   "metadata": {
    "colab": {
     "base_uri": "https://localhost:8080/"
    },
    "id": "2AgzK7bXJcV3",
    "outputId": "92d043c7-bfae-4810-a3ec-531dc8ca9fe0"
   },
   "outputs": [
    {
     "data": {
      "text/plain": [
       "False"
      ]
     },
     "execution_count": 28,
     "metadata": {
      "tags": []
     },
     "output_type": "execute_result"
    }
   ],
   "source": [
    "BestRecommender('Diamonds Are Forever')"
   ]
  },
  {
   "cell_type": "markdown",
   "metadata": {
    "id": "t1U81gsJQ4yp"
   },
   "source": [
    "**LanguageRecommender**<br>\n",
    "Η συνάρτηση language_recommender με είσοδο μία ταινία movie επιστρέφει 10 ταινίες με ίδια γλώσσα με τη movie."
   ]
  },
  {
   "cell_type": "code",
   "execution_count": 29,
   "metadata": {
    "id": "MDrxnduPRdGy"
   },
   "outputs": [],
   "source": [
    "#Recommends movies of the same language\n",
    "def language_recommender(movie):\n",
    "    s = set()\n",
    "    w = set()\n",
    "    q = prolog.query(\"same_language('\" + movie +\"',M)\")\n",
    "    for soln in q:\n",
    "        m = soln['M'] \n",
    "        if m not in s and m != movie:\n",
    "            s.add(soln['M'])\n",
    "    q.close()\n",
    "    answers = s\n",
    "    return answers"
   ]
  },
  {
   "cell_type": "code",
   "execution_count": 30,
   "metadata": {
    "id": "gtDEuS8wQ6Ms"
   },
   "outputs": [],
   "source": [
    "def LanguageRecommender(movie):\n",
    "  recom1 = list(language_recommender(movie))[:10]\n",
    "  print(\"Recommendation filter: LANGUAGE\")\n",
    "  print(\"Chosen movie \" + movie)\n",
    "  print(\"Recommended movies:\")\n",
    "  print(recom1)"
   ]
  },
  {
   "cell_type": "code",
   "execution_count": 31,
   "metadata": {
    "colab": {
     "base_uri": "https://localhost:8080/"
    },
    "id": "bjOj8HuLRxoQ",
    "outputId": "2d64c83d-bec2-4bf0-f285-fcbd01c27259"
   },
   "outputs": [
    {
     "name": "stdout",
     "output_type": "stream",
     "text": [
      "Recommendation filter: LANGUAGE\n",
      "Chosen movie Mission: Impossible III\n",
      "Recommended movies:\n",
      "['Austin Powers: The Spy Who Shagged Me', 'The Train', 'Night Watch', 'Easy Money', 'Animals United', 'Enemy at the Gates', 'Shalako', 'The White Ribbon', 'Butterfly', 'Thunder and the House of Magic']\n"
     ]
    }
   ],
   "source": [
    "LanguageRecommender('Mission: Impossible III')"
   ]
  },
  {
   "cell_type": "markdown",
   "metadata": {
    "id": "UZGzLYObt4nt"
   },
   "source": [
    "**DurationRecommender**<br>\n",
    "Η συνάρτηση duration_recommender με είσοδο μία ταινία movie επιστρέφει 10 ταινίες με διάρκεια τουλάχιστον όση κα της movie."
   ]
  },
  {
   "cell_type": "code",
   "execution_count": 32,
   "metadata": {
    "id": "1gyxkl0UuT_i"
   },
   "outputs": [],
   "source": [
    "#Recommends movies of the same language\n",
    "def duration_recommender(movie):\n",
    "    s = set()\n",
    "    w = set()\n",
    "    q = prolog.query(\"greater_duration('\" + movie +\"',M)\")\n",
    "    for soln in q:\n",
    "        m = soln['M'] \n",
    "        if m not in s and m != movie:\n",
    "            s.add(soln['M'])\n",
    "    q.close()\n",
    "    answers = s\n",
    "    return answers"
   ]
  },
  {
   "cell_type": "code",
   "execution_count": 33,
   "metadata": {
    "id": "1HeFDNIpuc2Y"
   },
   "outputs": [],
   "source": [
    "def DurationRecommender(movie):\n",
    "  recom1 = list(duration_recommender(movie))[:10]\n",
    "  print(\"Recommendation filter: DURATION\")\n",
    "  print(\"Chosen movie \" + movie)\n",
    "  print(\"Recommended movies:\")\n",
    "  print(recom1)"
   ]
  },
  {
   "cell_type": "code",
   "execution_count": 34,
   "metadata": {
    "colab": {
     "base_uri": "https://localhost:8080/"
    },
    "id": "MYhmCThZu5Qv",
    "outputId": "80740ecf-b013-44c3-d847-b4b7cc028deb"
   },
   "outputs": [
    {
     "name": "stdout",
     "output_type": "stream",
     "text": [
      "Recommendation filter: DURATION\n",
      "Chosen movie A Beautiful Mind\n",
      "Recommended movies:\n",
      "['The Secret', 'Black Book', 'Rent', 'Primary Colors', 'Sunshine State', 'Man on Fire', 'The Aviator', 'Apocalypto', 'Spectre', 'The Scarlet Letter']\n"
     ]
    }
   ],
   "source": [
    "DurationRecommender('A Beautiful Mind')"
   ]
  },
  {
   "cell_type": "markdown",
   "metadata": {
    "id": "1Kra9Cmhqd4d"
   },
   "source": [
    "**Πολυκριτήρια αξιολόγηση ταινιών**<br>\n",
    "Αφού ελέγξαμε τη λειτουργία των κατηγορημάτων του Ερωτήματος 1β με απλούς recommenders οι οποίοι προτείνουν όμοιες ταινίες αξιολογώντας την ομοιότητα με ένα κριτήριο κάθε φορά θα δημιουργήσουμε πιο σύνθετους recommenders οι οποίοι αξιολογούν την ομοιότητα δύο ταινιών συνδυάζοντας τα προηγούμενα κριτήρια.<br>\n",
    "**Kλίμακα ομοιότητας από 1 έως 5** (1 καθόλου όμοιες, 5 πάρα πολύ όμοιες ταινίες)<br>\n",
    "*   **1:** find_sim_1 : Τουλάχιστον ένα genre-keyword κοινό (simple_recommender).\n",
    "*   **2:** find_sim_2: Τουλάχιστον 2 κοινά genre-keywords, τουλάχιστον 1 κοινός ηθοποιός και βαθμολογία IMDB > 7 (Recommender2)\n",
    "*   **3:** find_sim_3: Τουλάχιστον 2 κοινά genre-keywords, τουλάχιστον 2 κοινά plot-keywords και βαθμολογία IMDB > 7 (Recommender3).\n",
    "*   **4:** find_sim_4: Τουλάχιστον 3 κοινά genre-keywords, τουλάχιστον 3 κοινά plot-keywords, κοινή γλώσσα(Recommender4).\n",
    "*   **5:** find_sim_5: Τουλάχιστον 3 κοινά genre-keywords και κοινός σκηνοθέτης. (Recommender5).\n",
    "\n",
    "\n",
    "\n",
    "\n",
    "\n",
    "\n",
    "\n",
    "\n"
   ]
  },
  {
   "cell_type": "markdown",
   "metadata": {
    "id": "kITZ-qN32vwk"
   },
   "source": [
    "Δοκιμάσαμε να επιλέξουμε πιο σύνθετα κι αυστηρά κριτήρια ομοιότητας όπως για παράδειγμα να έχουν 2 ταινίες τουλάχιστον 3 κοινά genre-keywords, τουλάχιστον 3 κοινά plot-keywords, κοινό σκηνοθέτη, τουλάχιστον 2 κοινούς ηθοποιούς και κοινή γλώσσα όμως τα αποτελέσματα που επιστρέφονταν ήταν είτε πολύ μικρό σύνολο (1-2 ταινίες) είτε το κενό σύνολο. Θεωρήσαμε πως ένας τόσο αυστηρός Recommender δεν είναι ρεαλιστικός και γι'αυτό τα παραπάνω κατηγορήματα find_sim είναι λιγότερο αυστηρά ως προς το πλήθος των κοινών χαρακτηριστικών 2 ταινιών."
   ]
  },
  {
   "cell_type": "code",
   "execution_count": 35,
   "metadata": {
    "id": "PZ1t7OTgiufq"
   },
   "outputs": [],
   "source": [
    "prolog.assertz('''(find_sim_2(X, Y):-\n",
    "                                        common(X, Y),\n",
    "                                        some_actors(X, Y),\n",
    "                                        X \\= Y )''')"
   ]
  },
  {
   "cell_type": "code",
   "execution_count": 36,
   "metadata": {
    "id": "0sFHpk6dkN3G"
   },
   "outputs": [],
   "source": [
    "def Recommender2(movie):\n",
    "    s = set()\n",
    "    q = prolog.query(\"find_sim_2('\" + movie +\"',M)\")\n",
    "    for soln in q:\n",
    "        m = soln['M'] \n",
    "        if m not in s:\n",
    "            s.add(soln['M'])\n",
    "    q.close()\n",
    "    answers = s\n",
    "    answers2 = set()\n",
    "    #if movie has IMDB score > 7\n",
    "    for mov in answers:\n",
    "      if BestRecommender(mov):\n",
    "        answers2.add(mov)\n",
    "    return answers"
   ]
  },
  {
   "cell_type": "code",
   "execution_count": 37,
   "metadata": {
    "colab": {
     "base_uri": "https://localhost:8080/"
    },
    "id": "k1d1hpRWkzEk",
    "outputId": "41d8c2a1-a6b5-4e1e-a3bd-2dc6c0202aa2"
   },
   "outputs": [
    {
     "data": {
      "text/plain": [
       "['Guardians of the Galaxy',\n",
       " 'The Losers',\n",
       " 'Star Trek Into Darkness',\n",
       " 'The Book of Life',\n",
       " 'Alien',\n",
       " 'Crossroads']"
      ]
     },
     "execution_count": 37,
     "metadata": {
      "tags": []
     },
     "output_type": "execute_result"
    }
   ],
   "source": [
    "list(Recommender2('Avatar'))[:10]"
   ]
  },
  {
   "cell_type": "code",
   "execution_count": 38,
   "metadata": {
    "id": "OQOGE9Rul95T"
   },
   "outputs": [],
   "source": [
    "prolog.assertz('''(find_sim_3(X, Y):-\n",
    "                                        common(X, Y),\n",
    "                                        common_plot(X, Y),\n",
    "                                        X \\= Y )''')"
   ]
  },
  {
   "cell_type": "code",
   "execution_count": 39,
   "metadata": {
    "id": "j2TwNTYbmNKY"
   },
   "outputs": [],
   "source": [
    "def Recommender3(movie):\n",
    "    s = set()\n",
    "    q = prolog.query(\"find_sim_3('\" + movie +\"',M)\")\n",
    "    for soln in q:\n",
    "        m = soln['M'] \n",
    "        if m not in s:\n",
    "            s.add(soln['M'])\n",
    "    q.close()\n",
    "    answers = s\n",
    "    answers2 = set()\n",
    "    #if movie has IMDB score > 7\n",
    "    for mov in answers:\n",
    "      if BestRecommender(mov):\n",
    "        answers2.add(mov)\n",
    "    return answers2"
   ]
  },
  {
   "cell_type": "code",
   "execution_count": 40,
   "metadata": {
    "colab": {
     "base_uri": "https://localhost:8080/"
    },
    "id": "Nd21bjCOmSSL",
    "outputId": "62bbf050-6aa7-44ff-e8f0-6f1e83dec54a"
   },
   "outputs": [
    {
     "data": {
      "text/plain": [
       "['Interstellar']"
      ]
     },
     "execution_count": 40,
     "metadata": {
      "tags": []
     },
     "output_type": "execute_result"
    }
   ],
   "source": [
    "list(Recommender3('Avatar'))[:10]"
   ]
  },
  {
   "cell_type": "code",
   "execution_count": 41,
   "metadata": {
    "id": "LcdY83KFmsgK"
   },
   "outputs": [],
   "source": [
    "prolog.assertz('''(find_sim_4(X, Y):-\n",
    "                                        same_plot(X, Y),\n",
    "                                        very_common(X, Y),\n",
    "                                        same_language(X,Y),\n",
    "                                        X \\= Y )''')"
   ]
  },
  {
   "cell_type": "code",
   "execution_count": 42,
   "metadata": {
    "id": "fgvZ9S0fm7xL"
   },
   "outputs": [],
   "source": [
    "def Recommender4(movie):\n",
    "    s = set()\n",
    "    q = prolog.query(\"find_sim_4('\" + movie +\"',M)\")\n",
    "    for soln in q:\n",
    "        m = soln['M'] \n",
    "        if m not in s:\n",
    "            s.add(soln['M'])\n",
    "    q.close()\n",
    "    answers = s\n",
    "    return answers"
   ]
  },
  {
   "cell_type": "code",
   "execution_count": 43,
   "metadata": {
    "colab": {
     "base_uri": "https://localhost:8080/"
    },
    "id": "AQfGyUHsm_wJ",
    "outputId": "ff06c858-3eaa-4f8b-98ac-45fd0a715020"
   },
   "outputs": [
    {
     "data": {
      "text/plain": [
       "['Pirates of the Caribbean: On Stranger Tides',\n",
       " 'Star Trek Into Darkness',\n",
       " 'Predators',\n",
       " 'John Carter',\n",
       " 'The Fifth Element']"
      ]
     },
     "execution_count": 43,
     "metadata": {
      "tags": []
     },
     "output_type": "execute_result"
    }
   ],
   "source": [
    "list(Recommender4('Avatar'))[:10]"
   ]
  },
  {
   "cell_type": "code",
   "execution_count": 44,
   "metadata": {
    "id": "k47Y8LPJnSNI"
   },
   "outputs": [],
   "source": [
    "prolog.assertz('''(find_sim_5(X, Y):-\n",
    "                                        common_director(X, Y),\n",
    "                                        very_common(X, Y),\n",
    "                                        X \\= Y )''')"
   ]
  },
  {
   "cell_type": "code",
   "execution_count": 45,
   "metadata": {
    "id": "w8Dzz9FZnX7B"
   },
   "outputs": [],
   "source": [
    "def Recommender5(movie):\n",
    "    s = set()\n",
    "    q = prolog.query(\"find_sim_5('\" + movie +\"',M)\")\n",
    "    for soln in q:\n",
    "        m = soln['M'] \n",
    "        if m not in s:\n",
    "            s.add(soln['M'])\n",
    "    q.close()\n",
    "    answers = s\n",
    "    return answers"
   ]
  },
  {
   "cell_type": "code",
   "execution_count": 46,
   "metadata": {
    "colab": {
     "base_uri": "https://localhost:8080/"
    },
    "id": "VffcLQ78ncTO",
    "outputId": "9aa2b557-d39f-49c8-da50-e956b53257c0"
   },
   "outputs": [
    {
     "data": {
      "text/plain": [
       "['The Abyss']"
      ]
     },
     "execution_count": 46,
     "metadata": {
      "tags": []
     },
     "output_type": "execute_result"
    }
   ],
   "source": [
    "list(Recommender5('Avatar'))[:10]"
   ]
  },
  {
   "cell_type": "markdown",
   "metadata": {
    "id": "bamujIlwozdQ"
   },
   "source": [
    "Mε το παράδειγμα του \"Avatar\" παρατηρούμε ότι όσο μεγαλύτερης τάξης Recommender χρησιμοποιούμε τόσο λιγότερες ταινίες εμφανίζονται που είναι το αναμενόμενο καθώς αυστηροποιούνται τα κριτήρια ομοιότητας."
   ]
  },
  {
   "cell_type": "markdown",
   "metadata": {
    "id": "LFywEMb5pLxM"
   },
   "source": [
    "**GeneralRecommender**<br>\n",
    "Χρησιμοποιεί τους παραπάνω Recommenders κι εμφανίζει λίστα με τις όμοιες ταινίες σε **φθίνουσα σειρά** ομοιότητας. Ο χρήστης μπορεί να επιλέξει πόσες ταινίες θέλει να του προταθούν θέτοντας το δεύτερο όρισμα της συνάρτησης GeneralRecommender."
   ]
  },
  {
   "cell_type": "code",
   "execution_count": 47,
   "metadata": {
    "id": "9lW7oSGyLx6D"
   },
   "outputs": [],
   "source": [
    "def GeneralRecommender(movie,x):\n",
    "  answer = []\n",
    "  temp = []\n",
    "  answer = list(Recommender5(movie))[:x]\n",
    "  if (len(answer) < x):\n",
    "    temp = list(Recommender4(movie))\n",
    "    for i in temp:\n",
    "      if i not in answer:\n",
    "        answer = answer + [i]\n",
    "    answer = answer[:x]\n",
    "  if (len(answer) < x):\n",
    "    temp = list(Recommender3(movie))\n",
    "    for i in temp:\n",
    "      if i not in answer:\n",
    "        answer = answer + [i]\n",
    "    answer = answer[:x]\n",
    "  if (len(answer) < x):\n",
    "    temp = list(Recommender2(movie))\n",
    "    for i in temp:\n",
    "      if i not in answer:\n",
    "        answer = answer + [i]\n",
    "    answer = answer[:x]\n",
    "  if (len(answer) < x):\n",
    "    temp = list(simple_recommender(movie))\n",
    "    for i in temp:\n",
    "      if i not in answer:\n",
    "        answer = answer + [i]\n",
    "    answer = answer[:x]\n",
    "  return answer"
   ]
  },
  {
   "cell_type": "code",
   "execution_count": 48,
   "metadata": {
    "colab": {
     "base_uri": "https://localhost:8080/"
    },
    "id": "AARMqiPwMPd7",
    "outputId": "92e85e17-3dd4-4426-9c65-f99045b70960"
   },
   "outputs": [
    {
     "data": {
      "text/plain": [
       "['The Astronaut Farmer',\n",
       " 'The Martian',\n",
       " 'Silent Running',\n",
       " 'Metropolis',\n",
       " 'The Other Side of Heaven',\n",
       " 'Children of Men',\n",
       " 'The Huntsman: Winters War',\n",
       " 'Lonesome Jim',\n",
       " 'Blackthorn',\n",
       " 'The Dangerous Lives of Altar Boys']"
      ]
     },
     "execution_count": 48,
     "metadata": {
      "tags": []
     },
     "output_type": "execute_result"
    }
   ],
   "source": [
    "GeneralRecommender('Interstellar',10)"
   ]
  },
  {
   "cell_type": "code",
   "execution_count": 49,
   "metadata": {
    "colab": {
     "base_uri": "https://localhost:8080/"
    },
    "id": "YjeuaKlbR73u",
    "outputId": "8b058128-ddf5-43db-e67e-4ace8e6a6865"
   },
   "outputs": [
    {
     "data": {
      "text/plain": [
       "['Harry Potter and the Goblet of Fire',\n",
       " 'Harry Potter and the Order of the Phoenix',\n",
       " 'Harry Potter and the Philosophers Stone',\n",
       " 'Harry Potter and the Chamber of Secrets',\n",
       " 'Harry Potter and the Half-Blood Prince',\n",
       " 'The Tale of Despereaux',\n",
       " 'The Fifth Element',\n",
       " 'Quest for Camelot',\n",
       " 'The Legend of the Lone Ranger',\n",
       " 'Blackthorn',\n",
       " 'Daddy Day Care',\n",
       " 'The Lovers',\n",
       " 'Planet of the Apes',\n",
       " 'Meet Dave',\n",
       " 'Forbidden Kingdom',\n",
       " 'Lucky Numbers',\n",
       " 'The League of Extraordinary Gentlemen',\n",
       " '47 Ronin',\n",
       " 'Goldfinger',\n",
       " 'Midnight Special']"
      ]
     },
     "execution_count": 49,
     "metadata": {
      "tags": []
     },
     "output_type": "execute_result"
    }
   ],
   "source": [
    "GeneralRecommender('Harry Potter and the Prisoner of Azkaban',20)"
   ]
  },
  {
   "cell_type": "markdown",
   "metadata": {
    "id": "YjpTwOuO4rUd"
   },
   "source": [
    "# **3ο Μέρος: Recommendation System Με βάση τις προτιμήσεις-Αξιολογήσεις του χρήστη-Εκπαίδευση και Πρόβλεψη**\n",
    "\n",
    "\n",
    "Αρχικά μελετάμε τις αξιολογήσεις κάθε χρήστη για να καταλάβουμε την δομή και τις πληροφορίες κάθε αρχείου.\n",
    "\n",
    "\n"
   ]
  },
  {
   "cell_type": "code",
   "execution_count": 50,
   "metadata": {
    "id": "lL9P3GOd4rUe"
   },
   "outputs": [],
   "source": [
    "from tqdm.notebook import tqdm\n",
    "from sklearn.metrics import precision_score, recall_score, f1_score\n",
    "\n",
    "\n",
    "#rating_weights = {0: -1, 1: -0.5, 2:0, 3:0, 4:0.5, 5:1}\n",
    "#score_weights = {i:i + 1 for i in range(5)} # ανάλογα με τα επίπεδα ομοιότητας που έχουν οριστεί στην simple_recommender\n",
    "\n",
    "rating_weights = {0: -1, 1: -0.3, 2:0, 3:0, 4:0.5, 5:1}\n",
    "score_weights = {i:i + 10 for i in range(5)} # ανάλογα με τα επίπεδα ομοιότητας που έχουν οριστεί στην simple_recommender\n",
    "\n",
    "def train_recommender(ratings, rating_weights, score_weights, start=0, end = -1, movie_score = {}):\n",
    "    \"\"\"\n",
    "    Στην συνάρτηση αυτή μπορούμε να ορίζουμε ποιο υποσύνολο των αξιολογήσεων θα χρησιμοποιήσουμε για το train,\n",
    "    ενώ παράλληλα μπορούμε να αρχικοποιήσουμε και το movie_score το οποίο αποθηκεύονται τα score κάθε ταινίας.\n",
    "    Έτσι αν έχουμε κάνει train τον recommender μας για τις πρώτες 10 ταινίες, μπορούμε να συνεχίσουμε για τις \n",
    "    υπόλοιπες χωρίς κάθε φορά να ξανά-διαμορφώνουμε το score για αυτές. Αυτό θα σας βοηθήσει στην εκτέλεση και χρονικά όταν ελέγχετε την \n",
    "    απόδοση σε υποσύνολα των ratings π.χ. πρώτες 10 ταινίες έπειτα τις επόμενες 20 κ.ο.κ.\n",
    "    \"\"\"\n",
    "    if end == -1:\n",
    "        end = len(ratings)\n",
    "\n",
    "    ratings = ratings.iloc[range(start, end)]\n",
    "    for row in tqdm(ratings.itertuples(index=True, name='Pandas')):\n",
    "        movie = clean_text(getattr(row, 'movie_title'))\n",
    "        rating = getattr(row, 'rating')\n",
    "\n",
    "        similar_movies = Recommender5(movie)\n",
    "\n",
    "        for similar_movie in similar_movies:\n",
    "            if similar_movie not in movie_score:\n",
    "                movie_score[similar_movie] = rating_weights[int(rating)] * score_weights[4]\n",
    "            else:\n",
    "                movie_score[similar_movie] += rating_weights[int(rating)] * score_weights[4] \n",
    "\n",
    "        similar_movies = Recommender4(movie)\n",
    "\n",
    "        for similar_movie in similar_movies:\n",
    "            if similar_movie not in movie_score:\n",
    "                movie_score[similar_movie] = rating_weights[int(rating)] * score_weights[3]\n",
    "            else:\n",
    "                movie_score[similar_movie] += rating_weights[int(rating)] * score_weights[3]         \n",
    "    \n",
    "        similar_movies = Recommender3(movie)\n",
    "\n",
    "        for similar_movie in similar_movies:\n",
    "            if similar_movie not in movie_score:\n",
    "                movie_score[similar_movie] = rating_weights[int(rating)] * score_weights[2]\n",
    "            else:\n",
    "                movie_score[similar_movie] += rating_weights[int(rating)] * score_weights[2] \n",
    "\n",
    "        similar_movies = Recommender2(movie)\n",
    "\n",
    "        for similar_movie in similar_movies:\n",
    "            if similar_movie not in movie_score:\n",
    "                movie_score[similar_movie] = rating_weights[int(rating)] * score_weights[1]\n",
    "            else:\n",
    "                movie_score[similar_movie] += rating_weights[int(rating)] * score_weights[1] \n",
    "\n",
    "        similar_movies = simple_recommender(movie)\n",
    "\n",
    "        for similar_movie in similar_movies:\n",
    "            if similar_movie not in movie_score:\n",
    "                movie_score[similar_movie] = rating_weights[int(rating)] * score_weights[0]\n",
    "            else:\n",
    "                movie_score[similar_movie] += rating_weights[int(rating)] * score_weights[0] #το weight θα το ορίσετε ανα επίπεδο ομοιότητας οι πολύ όμοιες ταινίες θα έχουν μεγαλύτερο βάρος\n",
    "    return movie_score\n",
    "\n",
    "\n",
    "#αυτό είναι ένα παράδειγμα για το πως θα μπορούσε να υλοποιήθει η predict\n",
    "#έχουμε ορίσει ότι μια ταινία θα έπρεπε να είναι προτεινόμενη αν είχε σκορ > 0\n",
    "def predict_example(ratings, movie_score):\n",
    "    real, pred = [], []\n",
    "    for i, row in enumerate(ratings.itertuples(index=True, name='Pandas')):\n",
    "        movie = clean_text(getattr(row, 'movie_title'))\n",
    "        rating = getattr(row, 'rating')\n",
    "\n",
    "        if movie in movie_score: #αν έχουμε σχηματίσει βαθμολογία για την ταινία αυτή\n",
    "            pred.append(int(movie_score[movie] > 0)) #heuristic για το αν μια ταινία είναι προτεινόμενη\n",
    "            real.append(int(rating > 3))# έτσι ορίζουμε ότι μια ταινία θα έπρεπε να είναι προτεινόμενη\n",
    "            #η συνθήκη αυτή δεν μπορεί να αλλάξει\n",
    "        else: #δεν μπορούμε να προτείνουμε κάτι για το όποιο δεν έχουμε σχηματίσει εικόνα\n",
    "            pred.append(0)\n",
    "            real.append(int(rating > 3))\n",
    "\n",
    "    return real, pred\n",
    "\n",
    "\n",
    "def get_metrics(real, pred):\n",
    "    metrics = {}\n",
    "    metrics[\"precision\"] = precision_score(real, pred)\n",
    "    metrics[\"recall\"] = recall_score(real, pred)\n",
    "    metrics[\"f1\"] = f1_score(real, pred)\n",
    "    return metrics"
   ]
  },
  {
   "cell_type": "code",
   "execution_count": 51,
   "metadata": {
    "id": "tnIDJLJX4rUe"
   },
   "outputs": [],
   "source": [
    "train_ratings = pd.read_csv(path + \"train_ratings.csv\")\n",
    "test_ratings = pd.read_csv(path + \"test_ratings.csv\")"
   ]
  },
  {
   "cell_type": "code",
   "execution_count": 52,
   "metadata": {
    "colab": {
     "base_uri": "https://localhost:8080/",
     "height": 82,
     "referenced_widgets": [
      "d5d8bf4176d8440b94263796d7b968b2",
      "f44705869ef94a2d88faf88abea7efd3",
      "793ac2ccb740479c86e2e8783fb2fd1a",
      "7f4c55d428434d5c8609f6f6fac6122f",
      "76b12f7df61b4362b70dcd6ef41f9517",
      "7bb8813eeaf642ef88ad3a6ac95701f5",
      "531a5bfefd2144658e9ad05938931872",
      "d9be94dcc74c48db8ccbb47265a6116a"
     ]
    },
    "id": "IurBJXyA4rUe",
    "outputId": "3a8c27b3-d562-4065-e95d-2153c330653a"
   },
   "outputs": [
    {
     "data": {
      "application/vnd.jupyter.widget-view+json": {
       "model_id": "d5d8bf4176d8440b94263796d7b968b2",
       "version_major": 2,
       "version_minor": 0
      },
      "text/plain": [
       "HBox(children=(FloatProgress(value=1.0, bar_style='info', max=1.0), HTML(value='')))"
      ]
     },
     "metadata": {
      "tags": []
     },
     "output_type": "display_data"
    },
    {
     "name": "stdout",
     "output_type": "stream",
     "text": [
      "\n",
      "{'precision': 0.4921875, 'recall': 0.875, 'f1': 0.63}\n"
     ]
    }
   ],
   "source": [
    "movie_score = train_recommender(train_ratings, rating_weights, score_weights, 0, 10)\n",
    "real, pred = predict_example(test_ratings, movie_score)\n",
    "print (get_metrics(real, pred))"
   ]
  },
  {
   "cell_type": "code",
   "execution_count": 53,
   "metadata": {
    "colab": {
     "base_uri": "https://localhost:8080/",
     "height": 82,
     "referenced_widgets": [
      "46006e7418524d1bad1d183c51946f1c",
      "df85691728624c998b4d64fce17d2b64",
      "83419fecca524ccf84bcc2dad7c60d6a",
      "bdbc366d04134da99e96d61434ff659c",
      "53b9ed89e6284f56a6d3b772664e1593",
      "d9c564313d5643d39684ee012d280671",
      "3fc72360af1c44d7a49136d8f37eba62",
      "5d88758dc64f4842af8aab7198325019"
     ]
    },
    "id": "xmxaauVc4rUe",
    "outputId": "93d24030-9a70-42e5-b34b-f8f98249a26c"
   },
   "outputs": [
    {
     "data": {
      "application/vnd.jupyter.widget-view+json": {
       "model_id": "46006e7418524d1bad1d183c51946f1c",
       "version_major": 2,
       "version_minor": 0
      },
      "text/plain": [
       "HBox(children=(FloatProgress(value=1.0, bar_style='info', max=1.0), HTML(value='')))"
      ]
     },
     "metadata": {
      "tags": []
     },
     "output_type": "display_data"
    },
    {
     "name": "stdout",
     "output_type": "stream",
     "text": [
      "\n",
      "{'precision': 0.5111111111111111, 'recall': 0.9583333333333334, 'f1': 0.6666666666666666}\n"
     ]
    }
   ],
   "source": [
    "movie_score = train_recommender(train_ratings, rating_weights, score_weights, 10, 20, movie_score)\n",
    "real, pred = predict_example(test_ratings, movie_score)\n",
    "print (get_metrics(real, pred))"
   ]
  },
  {
   "cell_type": "code",
   "execution_count": 54,
   "metadata": {
    "colab": {
     "base_uri": "https://localhost:8080/",
     "height": 82,
     "referenced_widgets": [
      "219de52f224c4f0b968066b4f803e735",
      "2b538e4b689c44d3be934b28d02afd7a",
      "28705b7704d94e3e87e9125c387bb852",
      "f27d90c756564b5d892025285ad7f29f",
      "7435fa3bddfb4bedbf4407c5075a6c82",
      "330944bc37a4461680c306313d09069e",
      "ff28d86da51540e9bfeb11f357dc924d",
      "b2b73c3c0b9a4403b1170abc5ef251e3"
     ]
    },
    "id": "k3xVQlr44rUe",
    "outputId": "57f8748b-3c4c-4ca0-868a-d436b8beec0a"
   },
   "outputs": [
    {
     "data": {
      "application/vnd.jupyter.widget-view+json": {
       "model_id": "219de52f224c4f0b968066b4f803e735",
       "version_major": 2,
       "version_minor": 0
      },
      "text/plain": [
       "HBox(children=(FloatProgress(value=1.0, bar_style='info', max=1.0), HTML(value='')))"
      ]
     },
     "metadata": {
      "tags": []
     },
     "output_type": "display_data"
    },
    {
     "name": "stdout",
     "output_type": "stream",
     "text": [
      "\n",
      "{'precision': 0.5147058823529411, 'recall': 0.9722222222222222, 'f1': 0.6730769230769229}\n"
     ]
    }
   ],
   "source": [
    "movie_score = train_recommender(train_ratings, rating_weights, score_weights, 20, 30, movie_score)\n",
    "real, pred = predict_example(test_ratings, movie_score)\n",
    "print (get_metrics(real, pred))"
   ]
  },
  {
   "cell_type": "code",
   "execution_count": 55,
   "metadata": {
    "colab": {
     "base_uri": "https://localhost:8080/",
     "height": 82,
     "referenced_widgets": [
      "3cc8c466773e4d349cc57c9f4c4162fe",
      "45d99e2d683047608800937026a017e3",
      "1e2ef903151e43e9a0a4adc78b79cf6a",
      "f939dc7c64ee4d14b697fd3e2e2cc894",
      "79a20e1a480e420d8be2e176da30f44e",
      "8e055459689a4cdc92f025a14af7a8b4",
      "86d840ce803545688434e59c539e0319",
      "789247f9d942442985af40ca0af394c2"
     ]
    },
    "id": "xCNY4yFN4rUe",
    "outputId": "bc3750e5-b1f0-4a47-ad1a-91290b1ed299"
   },
   "outputs": [
    {
     "data": {
      "application/vnd.jupyter.widget-view+json": {
       "model_id": "3cc8c466773e4d349cc57c9f4c4162fe",
       "version_major": 2,
       "version_minor": 0
      },
      "text/plain": [
       "HBox(children=(FloatProgress(value=1.0, bar_style='info', max=1.0), HTML(value='')))"
      ]
     },
     "metadata": {
      "tags": []
     },
     "output_type": "display_data"
    },
    {
     "name": "stdout",
     "output_type": "stream",
     "text": [
      "\n",
      "{'precision': 0.5072463768115942, 'recall': 0.9722222222222222, 'f1': 0.6666666666666666}\n"
     ]
    }
   ],
   "source": [
    "movie_score = train_recommender(train_ratings, rating_weights, score_weights, 30, 50, movie_score)\n",
    "real, pred = predict_example(test_ratings, movie_score)\n",
    "print (get_metrics(real, pred))"
   ]
  },
  {
   "cell_type": "code",
   "execution_count": 56,
   "metadata": {
    "colab": {
     "base_uri": "https://localhost:8080/",
     "height": 82,
     "referenced_widgets": [
      "122ee2cae856443fa45421da1a4ed33f",
      "4ad657bac02f4e1fa6a4397354d35f4f",
      "b15996f2287040538bd4041b6e76b6d2",
      "21aad46ebc6945c6975e31bc62a7e00d",
      "f8b4c63ceedd49d29163d225b2698328",
      "fe95c090220b49bbb7dba63aa1231262",
      "f4329f68a1f844da81ed47c3695493bf",
      "2632d3ee9cad4d098dabb8e2cdd4b8a0"
     ]
    },
    "id": "E1Qh4bUp4rUe",
    "outputId": "3e13e8fc-d849-44ca-fe88-7248ecffd106"
   },
   "outputs": [
    {
     "data": {
      "application/vnd.jupyter.widget-view+json": {
       "model_id": "122ee2cae856443fa45421da1a4ed33f",
       "version_major": 2,
       "version_minor": 0
      },
      "text/plain": [
       "HBox(children=(FloatProgress(value=1.0, bar_style='info', max=1.0), HTML(value='')))"
      ]
     },
     "metadata": {
      "tags": []
     },
     "output_type": "display_data"
    },
    {
     "name": "stdout",
     "output_type": "stream",
     "text": [
      "\n",
      "{'precision': 0.5072463768115942, 'recall': 0.9722222222222222, 'f1': 0.6666666666666666}\n"
     ]
    }
   ],
   "source": [
    "movie_score = train_recommender(train_ratings, rating_weights, score_weights,start = 50, end = 70, movie_score= movie_score)\n",
    "real, pred = predict_example(test_ratings, movie_score)\n",
    "print (get_metrics(real, pred))"
   ]
  },
  {
   "cell_type": "code",
   "execution_count": 57,
   "metadata": {
    "id": "0HxgodttVK17"
   },
   "outputs": [],
   "source": [
    "#movie_score = train_recommender(train_ratings, rating_weights, score_weights,start = 70, end = 100, movie_score= movie_score)\n",
    "#real, pred = predict_example(test_ratings, movie_score)\n",
    "#print (get_metrics(real, pred))"
   ]
  },
  {
   "cell_type": "markdown",
   "metadata": {
    "id": "P-jR9TG_Vom7"
   },
   "source": [
    "Για περισσότερες από από 70 ταινίες η εκτέλεση του colab notebook παίρνει πολύ χρόνο για να ολοκληρωθεί. Παρατηρούμε ότι στα τελευταία 2 πειράματα (50 και 70 ταινίες) το αποτέλσμα των μετρικών σταθεροποιείται.\n",
    "Η μετρική f1 που αποτελεί έναν \"μέσο\" δείκτη είναι σταθερά πάνω από 0.5 επομένως το σύστημα συστάσεών μας λειτουργεί ικανοποιητικά."
   ]
  }
 ],
 "metadata": {
  "colab": {
   "name": "AILab2-P2.ipynb",
   "provenance": []
  },
  "kernelspec": {
   "display_name": "Python 3",
   "language": "python",
   "name": "python3"
  },
  "language_info": {
   "codemirror_mode": {
    "name": "ipython",
    "version": 3
   },
   "file_extension": ".py",
   "mimetype": "text/x-python",
   "name": "python",
   "nbconvert_exporter": "python",
   "pygments_lexer": "ipython3",
   "version": "3.8.3"
  },
  "widgets": {
   "application/vnd.jupyter.widget-state+json": {
    "122ee2cae856443fa45421da1a4ed33f": {
     "model_module": "@jupyter-widgets/controls",
     "model_name": "HBoxModel",
     "state": {
      "_dom_classes": [],
      "_model_module": "@jupyter-widgets/controls",
      "_model_module_version": "1.5.0",
      "_model_name": "HBoxModel",
      "_view_count": null,
      "_view_module": "@jupyter-widgets/controls",
      "_view_module_version": "1.5.0",
      "_view_name": "HBoxView",
      "box_style": "",
      "children": [
       "IPY_MODEL_b15996f2287040538bd4041b6e76b6d2",
       "IPY_MODEL_21aad46ebc6945c6975e31bc62a7e00d"
      ],
      "layout": "IPY_MODEL_4ad657bac02f4e1fa6a4397354d35f4f"
     }
    },
    "1e2ef903151e43e9a0a4adc78b79cf6a": {
     "model_module": "@jupyter-widgets/controls",
     "model_name": "FloatProgressModel",
     "state": {
      "_dom_classes": [],
      "_model_module": "@jupyter-widgets/controls",
      "_model_module_version": "1.5.0",
      "_model_name": "FloatProgressModel",
      "_view_count": null,
      "_view_module": "@jupyter-widgets/controls",
      "_view_module_version": "1.5.0",
      "_view_name": "ProgressView",
      "bar_style": "success",
      "description": "",
      "description_tooltip": null,
      "layout": "IPY_MODEL_8e055459689a4cdc92f025a14af7a8b4",
      "max": 1,
      "min": 0,
      "orientation": "horizontal",
      "style": "IPY_MODEL_79a20e1a480e420d8be2e176da30f44e",
      "value": 1
     }
    },
    "219de52f224c4f0b968066b4f803e735": {
     "model_module": "@jupyter-widgets/controls",
     "model_name": "HBoxModel",
     "state": {
      "_dom_classes": [],
      "_model_module": "@jupyter-widgets/controls",
      "_model_module_version": "1.5.0",
      "_model_name": "HBoxModel",
      "_view_count": null,
      "_view_module": "@jupyter-widgets/controls",
      "_view_module_version": "1.5.0",
      "_view_name": "HBoxView",
      "box_style": "",
      "children": [
       "IPY_MODEL_28705b7704d94e3e87e9125c387bb852",
       "IPY_MODEL_f27d90c756564b5d892025285ad7f29f"
      ],
      "layout": "IPY_MODEL_2b538e4b689c44d3be934b28d02afd7a"
     }
    },
    "21aad46ebc6945c6975e31bc62a7e00d": {
     "model_module": "@jupyter-widgets/controls",
     "model_name": "HTMLModel",
     "state": {
      "_dom_classes": [],
      "_model_module": "@jupyter-widgets/controls",
      "_model_module_version": "1.5.0",
      "_model_name": "HTMLModel",
      "_view_count": null,
      "_view_module": "@jupyter-widgets/controls",
      "_view_module_version": "1.5.0",
      "_view_name": "HTMLView",
      "description": "",
      "description_tooltip": null,
      "layout": "IPY_MODEL_2632d3ee9cad4d098dabb8e2cdd4b8a0",
      "placeholder": "​",
      "style": "IPY_MODEL_f4329f68a1f844da81ed47c3695493bf",
      "value": " 20/? [00:03&lt;00:00,  5.66it/s]"
     }
    },
    "2632d3ee9cad4d098dabb8e2cdd4b8a0": {
     "model_module": "@jupyter-widgets/base",
     "model_name": "LayoutModel",
     "state": {
      "_model_module": "@jupyter-widgets/base",
      "_model_module_version": "1.2.0",
      "_model_name": "LayoutModel",
      "_view_count": null,
      "_view_module": "@jupyter-widgets/base",
      "_view_module_version": "1.2.0",
      "_view_name": "LayoutView",
      "align_content": null,
      "align_items": null,
      "align_self": null,
      "border": null,
      "bottom": null,
      "display": null,
      "flex": null,
      "flex_flow": null,
      "grid_area": null,
      "grid_auto_columns": null,
      "grid_auto_flow": null,
      "grid_auto_rows": null,
      "grid_column": null,
      "grid_gap": null,
      "grid_row": null,
      "grid_template_areas": null,
      "grid_template_columns": null,
      "grid_template_rows": null,
      "height": null,
      "justify_content": null,
      "justify_items": null,
      "left": null,
      "margin": null,
      "max_height": null,
      "max_width": null,
      "min_height": null,
      "min_width": null,
      "object_fit": null,
      "object_position": null,
      "order": null,
      "overflow": null,
      "overflow_x": null,
      "overflow_y": null,
      "padding": null,
      "right": null,
      "top": null,
      "visibility": null,
      "width": null
     }
    },
    "28705b7704d94e3e87e9125c387bb852": {
     "model_module": "@jupyter-widgets/controls",
     "model_name": "FloatProgressModel",
     "state": {
      "_dom_classes": [],
      "_model_module": "@jupyter-widgets/controls",
      "_model_module_version": "1.5.0",
      "_model_name": "FloatProgressModel",
      "_view_count": null,
      "_view_module": "@jupyter-widgets/controls",
      "_view_module_version": "1.5.0",
      "_view_name": "ProgressView",
      "bar_style": "success",
      "description": "",
      "description_tooltip": null,
      "layout": "IPY_MODEL_330944bc37a4461680c306313d09069e",
      "max": 1,
      "min": 0,
      "orientation": "horizontal",
      "style": "IPY_MODEL_7435fa3bddfb4bedbf4407c5075a6c82",
      "value": 1
     }
    },
    "2b538e4b689c44d3be934b28d02afd7a": {
     "model_module": "@jupyter-widgets/base",
     "model_name": "LayoutModel",
     "state": {
      "_model_module": "@jupyter-widgets/base",
      "_model_module_version": "1.2.0",
      "_model_name": "LayoutModel",
      "_view_count": null,
      "_view_module": "@jupyter-widgets/base",
      "_view_module_version": "1.2.0",
      "_view_name": "LayoutView",
      "align_content": null,
      "align_items": null,
      "align_self": null,
      "border": null,
      "bottom": null,
      "display": null,
      "flex": null,
      "flex_flow": null,
      "grid_area": null,
      "grid_auto_columns": null,
      "grid_auto_flow": null,
      "grid_auto_rows": null,
      "grid_column": null,
      "grid_gap": null,
      "grid_row": null,
      "grid_template_areas": null,
      "grid_template_columns": null,
      "grid_template_rows": null,
      "height": null,
      "justify_content": null,
      "justify_items": null,
      "left": null,
      "margin": null,
      "max_height": null,
      "max_width": null,
      "min_height": null,
      "min_width": null,
      "object_fit": null,
      "object_position": null,
      "order": null,
      "overflow": null,
      "overflow_x": null,
      "overflow_y": null,
      "padding": null,
      "right": null,
      "top": null,
      "visibility": null,
      "width": null
     }
    },
    "330944bc37a4461680c306313d09069e": {
     "model_module": "@jupyter-widgets/base",
     "model_name": "LayoutModel",
     "state": {
      "_model_module": "@jupyter-widgets/base",
      "_model_module_version": "1.2.0",
      "_model_name": "LayoutModel",
      "_view_count": null,
      "_view_module": "@jupyter-widgets/base",
      "_view_module_version": "1.2.0",
      "_view_name": "LayoutView",
      "align_content": null,
      "align_items": null,
      "align_self": null,
      "border": null,
      "bottom": null,
      "display": null,
      "flex": null,
      "flex_flow": null,
      "grid_area": null,
      "grid_auto_columns": null,
      "grid_auto_flow": null,
      "grid_auto_rows": null,
      "grid_column": null,
      "grid_gap": null,
      "grid_row": null,
      "grid_template_areas": null,
      "grid_template_columns": null,
      "grid_template_rows": null,
      "height": null,
      "justify_content": null,
      "justify_items": null,
      "left": null,
      "margin": null,
      "max_height": null,
      "max_width": null,
      "min_height": null,
      "min_width": null,
      "object_fit": null,
      "object_position": null,
      "order": null,
      "overflow": null,
      "overflow_x": null,
      "overflow_y": null,
      "padding": null,
      "right": null,
      "top": null,
      "visibility": null,
      "width": null
     }
    },
    "3cc8c466773e4d349cc57c9f4c4162fe": {
     "model_module": "@jupyter-widgets/controls",
     "model_name": "HBoxModel",
     "state": {
      "_dom_classes": [],
      "_model_module": "@jupyter-widgets/controls",
      "_model_module_version": "1.5.0",
      "_model_name": "HBoxModel",
      "_view_count": null,
      "_view_module": "@jupyter-widgets/controls",
      "_view_module_version": "1.5.0",
      "_view_name": "HBoxView",
      "box_style": "",
      "children": [
       "IPY_MODEL_1e2ef903151e43e9a0a4adc78b79cf6a",
       "IPY_MODEL_f939dc7c64ee4d14b697fd3e2e2cc894"
      ],
      "layout": "IPY_MODEL_45d99e2d683047608800937026a017e3"
     }
    },
    "3fc72360af1c44d7a49136d8f37eba62": {
     "model_module": "@jupyter-widgets/controls",
     "model_name": "DescriptionStyleModel",
     "state": {
      "_model_module": "@jupyter-widgets/controls",
      "_model_module_version": "1.5.0",
      "_model_name": "DescriptionStyleModel",
      "_view_count": null,
      "_view_module": "@jupyter-widgets/base",
      "_view_module_version": "1.2.0",
      "_view_name": "StyleView",
      "description_width": ""
     }
    },
    "45d99e2d683047608800937026a017e3": {
     "model_module": "@jupyter-widgets/base",
     "model_name": "LayoutModel",
     "state": {
      "_model_module": "@jupyter-widgets/base",
      "_model_module_version": "1.2.0",
      "_model_name": "LayoutModel",
      "_view_count": null,
      "_view_module": "@jupyter-widgets/base",
      "_view_module_version": "1.2.0",
      "_view_name": "LayoutView",
      "align_content": null,
      "align_items": null,
      "align_self": null,
      "border": null,
      "bottom": null,
      "display": null,
      "flex": null,
      "flex_flow": null,
      "grid_area": null,
      "grid_auto_columns": null,
      "grid_auto_flow": null,
      "grid_auto_rows": null,
      "grid_column": null,
      "grid_gap": null,
      "grid_row": null,
      "grid_template_areas": null,
      "grid_template_columns": null,
      "grid_template_rows": null,
      "height": null,
      "justify_content": null,
      "justify_items": null,
      "left": null,
      "margin": null,
      "max_height": null,
      "max_width": null,
      "min_height": null,
      "min_width": null,
      "object_fit": null,
      "object_position": null,
      "order": null,
      "overflow": null,
      "overflow_x": null,
      "overflow_y": null,
      "padding": null,
      "right": null,
      "top": null,
      "visibility": null,
      "width": null
     }
    },
    "46006e7418524d1bad1d183c51946f1c": {
     "model_module": "@jupyter-widgets/controls",
     "model_name": "HBoxModel",
     "state": {
      "_dom_classes": [],
      "_model_module": "@jupyter-widgets/controls",
      "_model_module_version": "1.5.0",
      "_model_name": "HBoxModel",
      "_view_count": null,
      "_view_module": "@jupyter-widgets/controls",
      "_view_module_version": "1.5.0",
      "_view_name": "HBoxView",
      "box_style": "",
      "children": [
       "IPY_MODEL_83419fecca524ccf84bcc2dad7c60d6a",
       "IPY_MODEL_bdbc366d04134da99e96d61434ff659c"
      ],
      "layout": "IPY_MODEL_df85691728624c998b4d64fce17d2b64"
     }
    },
    "4ad657bac02f4e1fa6a4397354d35f4f": {
     "model_module": "@jupyter-widgets/base",
     "model_name": "LayoutModel",
     "state": {
      "_model_module": "@jupyter-widgets/base",
      "_model_module_version": "1.2.0",
      "_model_name": "LayoutModel",
      "_view_count": null,
      "_view_module": "@jupyter-widgets/base",
      "_view_module_version": "1.2.0",
      "_view_name": "LayoutView",
      "align_content": null,
      "align_items": null,
      "align_self": null,
      "border": null,
      "bottom": null,
      "display": null,
      "flex": null,
      "flex_flow": null,
      "grid_area": null,
      "grid_auto_columns": null,
      "grid_auto_flow": null,
      "grid_auto_rows": null,
      "grid_column": null,
      "grid_gap": null,
      "grid_row": null,
      "grid_template_areas": null,
      "grid_template_columns": null,
      "grid_template_rows": null,
      "height": null,
      "justify_content": null,
      "justify_items": null,
      "left": null,
      "margin": null,
      "max_height": null,
      "max_width": null,
      "min_height": null,
      "min_width": null,
      "object_fit": null,
      "object_position": null,
      "order": null,
      "overflow": null,
      "overflow_x": null,
      "overflow_y": null,
      "padding": null,
      "right": null,
      "top": null,
      "visibility": null,
      "width": null
     }
    },
    "531a5bfefd2144658e9ad05938931872": {
     "model_module": "@jupyter-widgets/controls",
     "model_name": "DescriptionStyleModel",
     "state": {
      "_model_module": "@jupyter-widgets/controls",
      "_model_module_version": "1.5.0",
      "_model_name": "DescriptionStyleModel",
      "_view_count": null,
      "_view_module": "@jupyter-widgets/base",
      "_view_module_version": "1.2.0",
      "_view_name": "StyleView",
      "description_width": ""
     }
    },
    "53b9ed89e6284f56a6d3b772664e1593": {
     "model_module": "@jupyter-widgets/controls",
     "model_name": "ProgressStyleModel",
     "state": {
      "_model_module": "@jupyter-widgets/controls",
      "_model_module_version": "1.5.0",
      "_model_name": "ProgressStyleModel",
      "_view_count": null,
      "_view_module": "@jupyter-widgets/base",
      "_view_module_version": "1.2.0",
      "_view_name": "StyleView",
      "bar_color": null,
      "description_width": "initial"
     }
    },
    "5d88758dc64f4842af8aab7198325019": {
     "model_module": "@jupyter-widgets/base",
     "model_name": "LayoutModel",
     "state": {
      "_model_module": "@jupyter-widgets/base",
      "_model_module_version": "1.2.0",
      "_model_name": "LayoutModel",
      "_view_count": null,
      "_view_module": "@jupyter-widgets/base",
      "_view_module_version": "1.2.0",
      "_view_name": "LayoutView",
      "align_content": null,
      "align_items": null,
      "align_self": null,
      "border": null,
      "bottom": null,
      "display": null,
      "flex": null,
      "flex_flow": null,
      "grid_area": null,
      "grid_auto_columns": null,
      "grid_auto_flow": null,
      "grid_auto_rows": null,
      "grid_column": null,
      "grid_gap": null,
      "grid_row": null,
      "grid_template_areas": null,
      "grid_template_columns": null,
      "grid_template_rows": null,
      "height": null,
      "justify_content": null,
      "justify_items": null,
      "left": null,
      "margin": null,
      "max_height": null,
      "max_width": null,
      "min_height": null,
      "min_width": null,
      "object_fit": null,
      "object_position": null,
      "order": null,
      "overflow": null,
      "overflow_x": null,
      "overflow_y": null,
      "padding": null,
      "right": null,
      "top": null,
      "visibility": null,
      "width": null
     }
    },
    "7435fa3bddfb4bedbf4407c5075a6c82": {
     "model_module": "@jupyter-widgets/controls",
     "model_name": "ProgressStyleModel",
     "state": {
      "_model_module": "@jupyter-widgets/controls",
      "_model_module_version": "1.5.0",
      "_model_name": "ProgressStyleModel",
      "_view_count": null,
      "_view_module": "@jupyter-widgets/base",
      "_view_module_version": "1.2.0",
      "_view_name": "StyleView",
      "bar_color": null,
      "description_width": "initial"
     }
    },
    "76b12f7df61b4362b70dcd6ef41f9517": {
     "model_module": "@jupyter-widgets/controls",
     "model_name": "ProgressStyleModel",
     "state": {
      "_model_module": "@jupyter-widgets/controls",
      "_model_module_version": "1.5.0",
      "_model_name": "ProgressStyleModel",
      "_view_count": null,
      "_view_module": "@jupyter-widgets/base",
      "_view_module_version": "1.2.0",
      "_view_name": "StyleView",
      "bar_color": null,
      "description_width": "initial"
     }
    },
    "789247f9d942442985af40ca0af394c2": {
     "model_module": "@jupyter-widgets/base",
     "model_name": "LayoutModel",
     "state": {
      "_model_module": "@jupyter-widgets/base",
      "_model_module_version": "1.2.0",
      "_model_name": "LayoutModel",
      "_view_count": null,
      "_view_module": "@jupyter-widgets/base",
      "_view_module_version": "1.2.0",
      "_view_name": "LayoutView",
      "align_content": null,
      "align_items": null,
      "align_self": null,
      "border": null,
      "bottom": null,
      "display": null,
      "flex": null,
      "flex_flow": null,
      "grid_area": null,
      "grid_auto_columns": null,
      "grid_auto_flow": null,
      "grid_auto_rows": null,
      "grid_column": null,
      "grid_gap": null,
      "grid_row": null,
      "grid_template_areas": null,
      "grid_template_columns": null,
      "grid_template_rows": null,
      "height": null,
      "justify_content": null,
      "justify_items": null,
      "left": null,
      "margin": null,
      "max_height": null,
      "max_width": null,
      "min_height": null,
      "min_width": null,
      "object_fit": null,
      "object_position": null,
      "order": null,
      "overflow": null,
      "overflow_x": null,
      "overflow_y": null,
      "padding": null,
      "right": null,
      "top": null,
      "visibility": null,
      "width": null
     }
    },
    "793ac2ccb740479c86e2e8783fb2fd1a": {
     "model_module": "@jupyter-widgets/controls",
     "model_name": "FloatProgressModel",
     "state": {
      "_dom_classes": [],
      "_model_module": "@jupyter-widgets/controls",
      "_model_module_version": "1.5.0",
      "_model_name": "FloatProgressModel",
      "_view_count": null,
      "_view_module": "@jupyter-widgets/controls",
      "_view_module_version": "1.5.0",
      "_view_name": "ProgressView",
      "bar_style": "success",
      "description": "",
      "description_tooltip": null,
      "layout": "IPY_MODEL_7bb8813eeaf642ef88ad3a6ac95701f5",
      "max": 1,
      "min": 0,
      "orientation": "horizontal",
      "style": "IPY_MODEL_76b12f7df61b4362b70dcd6ef41f9517",
      "value": 1
     }
    },
    "79a20e1a480e420d8be2e176da30f44e": {
     "model_module": "@jupyter-widgets/controls",
     "model_name": "ProgressStyleModel",
     "state": {
      "_model_module": "@jupyter-widgets/controls",
      "_model_module_version": "1.5.0",
      "_model_name": "ProgressStyleModel",
      "_view_count": null,
      "_view_module": "@jupyter-widgets/base",
      "_view_module_version": "1.2.0",
      "_view_name": "StyleView",
      "bar_color": null,
      "description_width": "initial"
     }
    },
    "7bb8813eeaf642ef88ad3a6ac95701f5": {
     "model_module": "@jupyter-widgets/base",
     "model_name": "LayoutModel",
     "state": {
      "_model_module": "@jupyter-widgets/base",
      "_model_module_version": "1.2.0",
      "_model_name": "LayoutModel",
      "_view_count": null,
      "_view_module": "@jupyter-widgets/base",
      "_view_module_version": "1.2.0",
      "_view_name": "LayoutView",
      "align_content": null,
      "align_items": null,
      "align_self": null,
      "border": null,
      "bottom": null,
      "display": null,
      "flex": null,
      "flex_flow": null,
      "grid_area": null,
      "grid_auto_columns": null,
      "grid_auto_flow": null,
      "grid_auto_rows": null,
      "grid_column": null,
      "grid_gap": null,
      "grid_row": null,
      "grid_template_areas": null,
      "grid_template_columns": null,
      "grid_template_rows": null,
      "height": null,
      "justify_content": null,
      "justify_items": null,
      "left": null,
      "margin": null,
      "max_height": null,
      "max_width": null,
      "min_height": null,
      "min_width": null,
      "object_fit": null,
      "object_position": null,
      "order": null,
      "overflow": null,
      "overflow_x": null,
      "overflow_y": null,
      "padding": null,
      "right": null,
      "top": null,
      "visibility": null,
      "width": null
     }
    },
    "7f4c55d428434d5c8609f6f6fac6122f": {
     "model_module": "@jupyter-widgets/controls",
     "model_name": "HTMLModel",
     "state": {
      "_dom_classes": [],
      "_model_module": "@jupyter-widgets/controls",
      "_model_module_version": "1.5.0",
      "_model_name": "HTMLModel",
      "_view_count": null,
      "_view_module": "@jupyter-widgets/controls",
      "_view_module_version": "1.5.0",
      "_view_name": "HTMLView",
      "description": "",
      "description_tooltip": null,
      "layout": "IPY_MODEL_d9be94dcc74c48db8ccbb47265a6116a",
      "placeholder": "​",
      "style": "IPY_MODEL_531a5bfefd2144658e9ad05938931872",
      "value": " 10/? [00:01&lt;00:00,  7.04it/s]"
     }
    },
    "83419fecca524ccf84bcc2dad7c60d6a": {
     "model_module": "@jupyter-widgets/controls",
     "model_name": "FloatProgressModel",
     "state": {
      "_dom_classes": [],
      "_model_module": "@jupyter-widgets/controls",
      "_model_module_version": "1.5.0",
      "_model_name": "FloatProgressModel",
      "_view_count": null,
      "_view_module": "@jupyter-widgets/controls",
      "_view_module_version": "1.5.0",
      "_view_name": "ProgressView",
      "bar_style": "success",
      "description": "",
      "description_tooltip": null,
      "layout": "IPY_MODEL_d9c564313d5643d39684ee012d280671",
      "max": 1,
      "min": 0,
      "orientation": "horizontal",
      "style": "IPY_MODEL_53b9ed89e6284f56a6d3b772664e1593",
      "value": 1
     }
    },
    "86d840ce803545688434e59c539e0319": {
     "model_module": "@jupyter-widgets/controls",
     "model_name": "DescriptionStyleModel",
     "state": {
      "_model_module": "@jupyter-widgets/controls",
      "_model_module_version": "1.5.0",
      "_model_name": "DescriptionStyleModel",
      "_view_count": null,
      "_view_module": "@jupyter-widgets/base",
      "_view_module_version": "1.2.0",
      "_view_name": "StyleView",
      "description_width": ""
     }
    },
    "8e055459689a4cdc92f025a14af7a8b4": {
     "model_module": "@jupyter-widgets/base",
     "model_name": "LayoutModel",
     "state": {
      "_model_module": "@jupyter-widgets/base",
      "_model_module_version": "1.2.0",
      "_model_name": "LayoutModel",
      "_view_count": null,
      "_view_module": "@jupyter-widgets/base",
      "_view_module_version": "1.2.0",
      "_view_name": "LayoutView",
      "align_content": null,
      "align_items": null,
      "align_self": null,
      "border": null,
      "bottom": null,
      "display": null,
      "flex": null,
      "flex_flow": null,
      "grid_area": null,
      "grid_auto_columns": null,
      "grid_auto_flow": null,
      "grid_auto_rows": null,
      "grid_column": null,
      "grid_gap": null,
      "grid_row": null,
      "grid_template_areas": null,
      "grid_template_columns": null,
      "grid_template_rows": null,
      "height": null,
      "justify_content": null,
      "justify_items": null,
      "left": null,
      "margin": null,
      "max_height": null,
      "max_width": null,
      "min_height": null,
      "min_width": null,
      "object_fit": null,
      "object_position": null,
      "order": null,
      "overflow": null,
      "overflow_x": null,
      "overflow_y": null,
      "padding": null,
      "right": null,
      "top": null,
      "visibility": null,
      "width": null
     }
    },
    "b15996f2287040538bd4041b6e76b6d2": {
     "model_module": "@jupyter-widgets/controls",
     "model_name": "FloatProgressModel",
     "state": {
      "_dom_classes": [],
      "_model_module": "@jupyter-widgets/controls",
      "_model_module_version": "1.5.0",
      "_model_name": "FloatProgressModel",
      "_view_count": null,
      "_view_module": "@jupyter-widgets/controls",
      "_view_module_version": "1.5.0",
      "_view_name": "ProgressView",
      "bar_style": "success",
      "description": "",
      "description_tooltip": null,
      "layout": "IPY_MODEL_fe95c090220b49bbb7dba63aa1231262",
      "max": 1,
      "min": 0,
      "orientation": "horizontal",
      "style": "IPY_MODEL_f8b4c63ceedd49d29163d225b2698328",
      "value": 1
     }
    },
    "b2b73c3c0b9a4403b1170abc5ef251e3": {
     "model_module": "@jupyter-widgets/base",
     "model_name": "LayoutModel",
     "state": {
      "_model_module": "@jupyter-widgets/base",
      "_model_module_version": "1.2.0",
      "_model_name": "LayoutModel",
      "_view_count": null,
      "_view_module": "@jupyter-widgets/base",
      "_view_module_version": "1.2.0",
      "_view_name": "LayoutView",
      "align_content": null,
      "align_items": null,
      "align_self": null,
      "border": null,
      "bottom": null,
      "display": null,
      "flex": null,
      "flex_flow": null,
      "grid_area": null,
      "grid_auto_columns": null,
      "grid_auto_flow": null,
      "grid_auto_rows": null,
      "grid_column": null,
      "grid_gap": null,
      "grid_row": null,
      "grid_template_areas": null,
      "grid_template_columns": null,
      "grid_template_rows": null,
      "height": null,
      "justify_content": null,
      "justify_items": null,
      "left": null,
      "margin": null,
      "max_height": null,
      "max_width": null,
      "min_height": null,
      "min_width": null,
      "object_fit": null,
      "object_position": null,
      "order": null,
      "overflow": null,
      "overflow_x": null,
      "overflow_y": null,
      "padding": null,
      "right": null,
      "top": null,
      "visibility": null,
      "width": null
     }
    },
    "bdbc366d04134da99e96d61434ff659c": {
     "model_module": "@jupyter-widgets/controls",
     "model_name": "HTMLModel",
     "state": {
      "_dom_classes": [],
      "_model_module": "@jupyter-widgets/controls",
      "_model_module_version": "1.5.0",
      "_model_name": "HTMLModel",
      "_view_count": null,
      "_view_module": "@jupyter-widgets/controls",
      "_view_module_version": "1.5.0",
      "_view_name": "HTMLView",
      "description": "",
      "description_tooltip": null,
      "layout": "IPY_MODEL_5d88758dc64f4842af8aab7198325019",
      "placeholder": "​",
      "style": "IPY_MODEL_3fc72360af1c44d7a49136d8f37eba62",
      "value": " 10/? [00:01&lt;00:00,  6.53it/s]"
     }
    },
    "d5d8bf4176d8440b94263796d7b968b2": {
     "model_module": "@jupyter-widgets/controls",
     "model_name": "HBoxModel",
     "state": {
      "_dom_classes": [],
      "_model_module": "@jupyter-widgets/controls",
      "_model_module_version": "1.5.0",
      "_model_name": "HBoxModel",
      "_view_count": null,
      "_view_module": "@jupyter-widgets/controls",
      "_view_module_version": "1.5.0",
      "_view_name": "HBoxView",
      "box_style": "",
      "children": [
       "IPY_MODEL_793ac2ccb740479c86e2e8783fb2fd1a",
       "IPY_MODEL_7f4c55d428434d5c8609f6f6fac6122f"
      ],
      "layout": "IPY_MODEL_f44705869ef94a2d88faf88abea7efd3"
     }
    },
    "d9be94dcc74c48db8ccbb47265a6116a": {
     "model_module": "@jupyter-widgets/base",
     "model_name": "LayoutModel",
     "state": {
      "_model_module": "@jupyter-widgets/base",
      "_model_module_version": "1.2.0",
      "_model_name": "LayoutModel",
      "_view_count": null,
      "_view_module": "@jupyter-widgets/base",
      "_view_module_version": "1.2.0",
      "_view_name": "LayoutView",
      "align_content": null,
      "align_items": null,
      "align_self": null,
      "border": null,
      "bottom": null,
      "display": null,
      "flex": null,
      "flex_flow": null,
      "grid_area": null,
      "grid_auto_columns": null,
      "grid_auto_flow": null,
      "grid_auto_rows": null,
      "grid_column": null,
      "grid_gap": null,
      "grid_row": null,
      "grid_template_areas": null,
      "grid_template_columns": null,
      "grid_template_rows": null,
      "height": null,
      "justify_content": null,
      "justify_items": null,
      "left": null,
      "margin": null,
      "max_height": null,
      "max_width": null,
      "min_height": null,
      "min_width": null,
      "object_fit": null,
      "object_position": null,
      "order": null,
      "overflow": null,
      "overflow_x": null,
      "overflow_y": null,
      "padding": null,
      "right": null,
      "top": null,
      "visibility": null,
      "width": null
     }
    },
    "d9c564313d5643d39684ee012d280671": {
     "model_module": "@jupyter-widgets/base",
     "model_name": "LayoutModel",
     "state": {
      "_model_module": "@jupyter-widgets/base",
      "_model_module_version": "1.2.0",
      "_model_name": "LayoutModel",
      "_view_count": null,
      "_view_module": "@jupyter-widgets/base",
      "_view_module_version": "1.2.0",
      "_view_name": "LayoutView",
      "align_content": null,
      "align_items": null,
      "align_self": null,
      "border": null,
      "bottom": null,
      "display": null,
      "flex": null,
      "flex_flow": null,
      "grid_area": null,
      "grid_auto_columns": null,
      "grid_auto_flow": null,
      "grid_auto_rows": null,
      "grid_column": null,
      "grid_gap": null,
      "grid_row": null,
      "grid_template_areas": null,
      "grid_template_columns": null,
      "grid_template_rows": null,
      "height": null,
      "justify_content": null,
      "justify_items": null,
      "left": null,
      "margin": null,
      "max_height": null,
      "max_width": null,
      "min_height": null,
      "min_width": null,
      "object_fit": null,
      "object_position": null,
      "order": null,
      "overflow": null,
      "overflow_x": null,
      "overflow_y": null,
      "padding": null,
      "right": null,
      "top": null,
      "visibility": null,
      "width": null
     }
    },
    "df85691728624c998b4d64fce17d2b64": {
     "model_module": "@jupyter-widgets/base",
     "model_name": "LayoutModel",
     "state": {
      "_model_module": "@jupyter-widgets/base",
      "_model_module_version": "1.2.0",
      "_model_name": "LayoutModel",
      "_view_count": null,
      "_view_module": "@jupyter-widgets/base",
      "_view_module_version": "1.2.0",
      "_view_name": "LayoutView",
      "align_content": null,
      "align_items": null,
      "align_self": null,
      "border": null,
      "bottom": null,
      "display": null,
      "flex": null,
      "flex_flow": null,
      "grid_area": null,
      "grid_auto_columns": null,
      "grid_auto_flow": null,
      "grid_auto_rows": null,
      "grid_column": null,
      "grid_gap": null,
      "grid_row": null,
      "grid_template_areas": null,
      "grid_template_columns": null,
      "grid_template_rows": null,
      "height": null,
      "justify_content": null,
      "justify_items": null,
      "left": null,
      "margin": null,
      "max_height": null,
      "max_width": null,
      "min_height": null,
      "min_width": null,
      "object_fit": null,
      "object_position": null,
      "order": null,
      "overflow": null,
      "overflow_x": null,
      "overflow_y": null,
      "padding": null,
      "right": null,
      "top": null,
      "visibility": null,
      "width": null
     }
    },
    "f27d90c756564b5d892025285ad7f29f": {
     "model_module": "@jupyter-widgets/controls",
     "model_name": "HTMLModel",
     "state": {
      "_dom_classes": [],
      "_model_module": "@jupyter-widgets/controls",
      "_model_module_version": "1.5.0",
      "_model_name": "HTMLModel",
      "_view_count": null,
      "_view_module": "@jupyter-widgets/controls",
      "_view_module_version": "1.5.0",
      "_view_name": "HTMLView",
      "description": "",
      "description_tooltip": null,
      "layout": "IPY_MODEL_b2b73c3c0b9a4403b1170abc5ef251e3",
      "placeholder": "​",
      "style": "IPY_MODEL_ff28d86da51540e9bfeb11f357dc924d",
      "value": " 10/? [00:02&lt;00:00,  3.94it/s]"
     }
    },
    "f4329f68a1f844da81ed47c3695493bf": {
     "model_module": "@jupyter-widgets/controls",
     "model_name": "DescriptionStyleModel",
     "state": {
      "_model_module": "@jupyter-widgets/controls",
      "_model_module_version": "1.5.0",
      "_model_name": "DescriptionStyleModel",
      "_view_count": null,
      "_view_module": "@jupyter-widgets/base",
      "_view_module_version": "1.2.0",
      "_view_name": "StyleView",
      "description_width": ""
     }
    },
    "f44705869ef94a2d88faf88abea7efd3": {
     "model_module": "@jupyter-widgets/base",
     "model_name": "LayoutModel",
     "state": {
      "_model_module": "@jupyter-widgets/base",
      "_model_module_version": "1.2.0",
      "_model_name": "LayoutModel",
      "_view_count": null,
      "_view_module": "@jupyter-widgets/base",
      "_view_module_version": "1.2.0",
      "_view_name": "LayoutView",
      "align_content": null,
      "align_items": null,
      "align_self": null,
      "border": null,
      "bottom": null,
      "display": null,
      "flex": null,
      "flex_flow": null,
      "grid_area": null,
      "grid_auto_columns": null,
      "grid_auto_flow": null,
      "grid_auto_rows": null,
      "grid_column": null,
      "grid_gap": null,
      "grid_row": null,
      "grid_template_areas": null,
      "grid_template_columns": null,
      "grid_template_rows": null,
      "height": null,
      "justify_content": null,
      "justify_items": null,
      "left": null,
      "margin": null,
      "max_height": null,
      "max_width": null,
      "min_height": null,
      "min_width": null,
      "object_fit": null,
      "object_position": null,
      "order": null,
      "overflow": null,
      "overflow_x": null,
      "overflow_y": null,
      "padding": null,
      "right": null,
      "top": null,
      "visibility": null,
      "width": null
     }
    },
    "f8b4c63ceedd49d29163d225b2698328": {
     "model_module": "@jupyter-widgets/controls",
     "model_name": "ProgressStyleModel",
     "state": {
      "_model_module": "@jupyter-widgets/controls",
      "_model_module_version": "1.5.0",
      "_model_name": "ProgressStyleModel",
      "_view_count": null,
      "_view_module": "@jupyter-widgets/base",
      "_view_module_version": "1.2.0",
      "_view_name": "StyleView",
      "bar_color": null,
      "description_width": "initial"
     }
    },
    "f939dc7c64ee4d14b697fd3e2e2cc894": {
     "model_module": "@jupyter-widgets/controls",
     "model_name": "HTMLModel",
     "state": {
      "_dom_classes": [],
      "_model_module": "@jupyter-widgets/controls",
      "_model_module_version": "1.5.0",
      "_model_name": "HTMLModel",
      "_view_count": null,
      "_view_module": "@jupyter-widgets/controls",
      "_view_module_version": "1.5.0",
      "_view_name": "HTMLView",
      "description": "",
      "description_tooltip": null,
      "layout": "IPY_MODEL_789247f9d942442985af40ca0af394c2",
      "placeholder": "​",
      "style": "IPY_MODEL_86d840ce803545688434e59c539e0319",
      "value": " 20/? [00:02&lt;00:00,  8.08it/s]"
     }
    },
    "fe95c090220b49bbb7dba63aa1231262": {
     "model_module": "@jupyter-widgets/base",
     "model_name": "LayoutModel",
     "state": {
      "_model_module": "@jupyter-widgets/base",
      "_model_module_version": "1.2.0",
      "_model_name": "LayoutModel",
      "_view_count": null,
      "_view_module": "@jupyter-widgets/base",
      "_view_module_version": "1.2.0",
      "_view_name": "LayoutView",
      "align_content": null,
      "align_items": null,
      "align_self": null,
      "border": null,
      "bottom": null,
      "display": null,
      "flex": null,
      "flex_flow": null,
      "grid_area": null,
      "grid_auto_columns": null,
      "grid_auto_flow": null,
      "grid_auto_rows": null,
      "grid_column": null,
      "grid_gap": null,
      "grid_row": null,
      "grid_template_areas": null,
      "grid_template_columns": null,
      "grid_template_rows": null,
      "height": null,
      "justify_content": null,
      "justify_items": null,
      "left": null,
      "margin": null,
      "max_height": null,
      "max_width": null,
      "min_height": null,
      "min_width": null,
      "object_fit": null,
      "object_position": null,
      "order": null,
      "overflow": null,
      "overflow_x": null,
      "overflow_y": null,
      "padding": null,
      "right": null,
      "top": null,
      "visibility": null,
      "width": null
     }
    },
    "ff28d86da51540e9bfeb11f357dc924d": {
     "model_module": "@jupyter-widgets/controls",
     "model_name": "DescriptionStyleModel",
     "state": {
      "_model_module": "@jupyter-widgets/controls",
      "_model_module_version": "1.5.0",
      "_model_name": "DescriptionStyleModel",
      "_view_count": null,
      "_view_module": "@jupyter-widgets/base",
      "_view_module_version": "1.2.0",
      "_view_name": "StyleView",
      "description_width": ""
     }
    }
   }
  }
 },
 "nbformat": 4,
 "nbformat_minor": 1
}
